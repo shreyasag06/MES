{
 "cells": [
  {
   "cell_type": "code",
   "execution_count": 1,
   "metadata": {
    "colab": {
     "base_uri": "https://localhost:8080/",
     "height": 79
    },
    "colab_type": "code",
    "id": "aLhrtOT48CV2",
    "outputId": "f1fd0893-6f81-4406-e442-5d8edc0c2635"
   },
   "outputs": [
    {
     "name": "stdout",
     "output_type": "stream",
     "text": [
      "Libraries Imported\n"
     ]
    }
   ],
   "source": [
    "import numpy as np\n",
    "import pandas as pd\n",
    "from sklearn.model_selection import train_test_split\n",
    "from sklearn.preprocessing import StandardScaler\n",
    "from sklearn.ensemble import RandomForestClassifier\n",
    "from sklearn.metrics import confusion_matrix\n",
    "import joblib\n",
    "import tensorflow as tf\n",
    "#%tensorflow_version 1.x\n",
    "print('Libraries Imported')"
   ]
  },
  {
   "cell_type": "code",
   "execution_count": 2,
   "metadata": {
    "colab": {},
    "colab_type": "code",
    "id": "4H6biohx8NZU"
   },
   "outputs": [],
   "source": [
    "data = pd.read_csv('Training.csv')"
   ]
  },
  {
   "cell_type": "code",
   "execution_count": 3,
   "metadata": {
    "colab": {
     "base_uri": "https://localhost:8080/",
     "height": 522
    },
    "colab_type": "code",
    "id": "TNWXwvh1821-",
    "outputId": "2425ffd5-83ba-494d-9611-286787f5bb84"
   },
   "outputs": [
    {
     "data": {
      "text/html": [
       "<div>\n",
       "<style scoped>\n",
       "    .dataframe tbody tr th:only-of-type {\n",
       "        vertical-align: middle;\n",
       "    }\n",
       "\n",
       "    .dataframe tbody tr th {\n",
       "        vertical-align: top;\n",
       "    }\n",
       "\n",
       "    .dataframe thead th {\n",
       "        text-align: right;\n",
       "    }\n",
       "</style>\n",
       "<table border=\"1\" class=\"dataframe\">\n",
       "  <thead>\n",
       "    <tr style=\"text-align: right;\">\n",
       "      <th></th>\n",
       "      <th>Disease_name</th>\n",
       "      <th>Abdomen, Acute</th>\n",
       "      <th>Abdominal Pain</th>\n",
       "      <th>Abdominal bloating</th>\n",
       "      <th>Abdominal colic</th>\n",
       "      <th>Abducens Nerve Diseases</th>\n",
       "      <th>Abnormal bowel sounds</th>\n",
       "      <th>Abnormal breathing</th>\n",
       "      <th>Abnormal heart beat</th>\n",
       "      <th>Abnormal sputum</th>\n",
       "      <th>...</th>\n",
       "      <th>urinoma</th>\n",
       "      <th>verbal auditory hallucinations</th>\n",
       "      <th>verbally abusive behavior</th>\n",
       "      <th>vision blurred</th>\n",
       "      <th>weepiness</th>\n",
       "      <th>welt</th>\n",
       "      <th>wheelchair bound</th>\n",
       "      <th>withdraw</th>\n",
       "      <th>worry</th>\n",
       "      <th>yellow sputum</th>\n",
       "    </tr>\n",
       "  </thead>\n",
       "  <tbody>\n",
       "    <tr>\n",
       "      <td>0</td>\n",
       "      <td>Achalasia</td>\n",
       "      <td>0</td>\n",
       "      <td>0</td>\n",
       "      <td>0</td>\n",
       "      <td>0</td>\n",
       "      <td>0</td>\n",
       "      <td>0</td>\n",
       "      <td>0</td>\n",
       "      <td>0</td>\n",
       "      <td>0</td>\n",
       "      <td>...</td>\n",
       "      <td>0</td>\n",
       "      <td>0</td>\n",
       "      <td>0</td>\n",
       "      <td>0</td>\n",
       "      <td>0</td>\n",
       "      <td>0</td>\n",
       "      <td>0</td>\n",
       "      <td>0</td>\n",
       "      <td>0</td>\n",
       "      <td>0</td>\n",
       "    </tr>\n",
       "    <tr>\n",
       "      <td>1</td>\n",
       "      <td>Acromegaly</td>\n",
       "      <td>0</td>\n",
       "      <td>0</td>\n",
       "      <td>0</td>\n",
       "      <td>0</td>\n",
       "      <td>0</td>\n",
       "      <td>0</td>\n",
       "      <td>0</td>\n",
       "      <td>0</td>\n",
       "      <td>0</td>\n",
       "      <td>...</td>\n",
       "      <td>0</td>\n",
       "      <td>0</td>\n",
       "      <td>0</td>\n",
       "      <td>0</td>\n",
       "      <td>0</td>\n",
       "      <td>0</td>\n",
       "      <td>0</td>\n",
       "      <td>0</td>\n",
       "      <td>0</td>\n",
       "      <td>0</td>\n",
       "    </tr>\n",
       "    <tr>\n",
       "      <td>2</td>\n",
       "      <td>Alzheimer's disease</td>\n",
       "      <td>0</td>\n",
       "      <td>0</td>\n",
       "      <td>0</td>\n",
       "      <td>0</td>\n",
       "      <td>0</td>\n",
       "      <td>0</td>\n",
       "      <td>0</td>\n",
       "      <td>0</td>\n",
       "      <td>0</td>\n",
       "      <td>...</td>\n",
       "      <td>0</td>\n",
       "      <td>0</td>\n",
       "      <td>0</td>\n",
       "      <td>0</td>\n",
       "      <td>0</td>\n",
       "      <td>0</td>\n",
       "      <td>1</td>\n",
       "      <td>0</td>\n",
       "      <td>0</td>\n",
       "      <td>0</td>\n",
       "    </tr>\n",
       "    <tr>\n",
       "      <td>3</td>\n",
       "      <td>Amyloidosis</td>\n",
       "      <td>0</td>\n",
       "      <td>0</td>\n",
       "      <td>0</td>\n",
       "      <td>0</td>\n",
       "      <td>0</td>\n",
       "      <td>0</td>\n",
       "      <td>0</td>\n",
       "      <td>0</td>\n",
       "      <td>0</td>\n",
       "      <td>...</td>\n",
       "      <td>0</td>\n",
       "      <td>0</td>\n",
       "      <td>0</td>\n",
       "      <td>0</td>\n",
       "      <td>0</td>\n",
       "      <td>0</td>\n",
       "      <td>0</td>\n",
       "      <td>0</td>\n",
       "      <td>0</td>\n",
       "      <td>0</td>\n",
       "    </tr>\n",
       "    <tr>\n",
       "      <td>4</td>\n",
       "      <td>Ascites</td>\n",
       "      <td>0</td>\n",
       "      <td>0</td>\n",
       "      <td>1</td>\n",
       "      <td>0</td>\n",
       "      <td>0</td>\n",
       "      <td>0</td>\n",
       "      <td>0</td>\n",
       "      <td>0</td>\n",
       "      <td>0</td>\n",
       "      <td>...</td>\n",
       "      <td>0</td>\n",
       "      <td>0</td>\n",
       "      <td>0</td>\n",
       "      <td>0</td>\n",
       "      <td>0</td>\n",
       "      <td>0</td>\n",
       "      <td>0</td>\n",
       "      <td>0</td>\n",
       "      <td>0</td>\n",
       "      <td>0</td>\n",
       "    </tr>\n",
       "    <tr>\n",
       "      <td>...</td>\n",
       "      <td>...</td>\n",
       "      <td>...</td>\n",
       "      <td>...</td>\n",
       "      <td>...</td>\n",
       "      <td>...</td>\n",
       "      <td>...</td>\n",
       "      <td>...</td>\n",
       "      <td>...</td>\n",
       "      <td>...</td>\n",
       "      <td>...</td>\n",
       "      <td>...</td>\n",
       "      <td>...</td>\n",
       "      <td>...</td>\n",
       "      <td>...</td>\n",
       "      <td>...</td>\n",
       "      <td>...</td>\n",
       "      <td>...</td>\n",
       "      <td>...</td>\n",
       "      <td>...</td>\n",
       "      <td>...</td>\n",
       "      <td>...</td>\n",
       "    </tr>\n",
       "    <tr>\n",
       "      <td>393</td>\n",
       "      <td>vitamin - a-mangel</td>\n",
       "      <td>0</td>\n",
       "      <td>0</td>\n",
       "      <td>0</td>\n",
       "      <td>0</td>\n",
       "      <td>0</td>\n",
       "      <td>0</td>\n",
       "      <td>0</td>\n",
       "      <td>0</td>\n",
       "      <td>0</td>\n",
       "      <td>...</td>\n",
       "      <td>0</td>\n",
       "      <td>0</td>\n",
       "      <td>0</td>\n",
       "      <td>0</td>\n",
       "      <td>0</td>\n",
       "      <td>0</td>\n",
       "      <td>0</td>\n",
       "      <td>0</td>\n",
       "      <td>0</td>\n",
       "      <td>0</td>\n",
       "    </tr>\n",
       "    <tr>\n",
       "      <td>394</td>\n",
       "      <td>vorhofseptumdefekt</td>\n",
       "      <td>0</td>\n",
       "      <td>0</td>\n",
       "      <td>0</td>\n",
       "      <td>0</td>\n",
       "      <td>0</td>\n",
       "      <td>0</td>\n",
       "      <td>0</td>\n",
       "      <td>0</td>\n",
       "      <td>0</td>\n",
       "      <td>...</td>\n",
       "      <td>0</td>\n",
       "      <td>0</td>\n",
       "      <td>0</td>\n",
       "      <td>0</td>\n",
       "      <td>0</td>\n",
       "      <td>0</td>\n",
       "      <td>0</td>\n",
       "      <td>0</td>\n",
       "      <td>0</td>\n",
       "      <td>0</td>\n",
       "    </tr>\n",
       "    <tr>\n",
       "      <td>395</td>\n",
       "      <td>wernicke - encephalopathy</td>\n",
       "      <td>0</td>\n",
       "      <td>0</td>\n",
       "      <td>0</td>\n",
       "      <td>0</td>\n",
       "      <td>0</td>\n",
       "      <td>0</td>\n",
       "      <td>0</td>\n",
       "      <td>0</td>\n",
       "      <td>0</td>\n",
       "      <td>...</td>\n",
       "      <td>0</td>\n",
       "      <td>0</td>\n",
       "      <td>0</td>\n",
       "      <td>0</td>\n",
       "      <td>0</td>\n",
       "      <td>0</td>\n",
       "      <td>0</td>\n",
       "      <td>0</td>\n",
       "      <td>0</td>\n",
       "      <td>0</td>\n",
       "    </tr>\n",
       "    <tr>\n",
       "      <td>396</td>\n",
       "      <td>williams - beuren - syndrom</td>\n",
       "      <td>0</td>\n",
       "      <td>0</td>\n",
       "      <td>0</td>\n",
       "      <td>0</td>\n",
       "      <td>0</td>\n",
       "      <td>0</td>\n",
       "      <td>0</td>\n",
       "      <td>0</td>\n",
       "      <td>0</td>\n",
       "      <td>...</td>\n",
       "      <td>0</td>\n",
       "      <td>0</td>\n",
       "      <td>0</td>\n",
       "      <td>0</td>\n",
       "      <td>0</td>\n",
       "      <td>0</td>\n",
       "      <td>0</td>\n",
       "      <td>0</td>\n",
       "      <td>0</td>\n",
       "      <td>0</td>\n",
       "    </tr>\n",
       "    <tr>\n",
       "      <td>397</td>\n",
       "      <td>zinkmangel</td>\n",
       "      <td>0</td>\n",
       "      <td>0</td>\n",
       "      <td>0</td>\n",
       "      <td>0</td>\n",
       "      <td>0</td>\n",
       "      <td>0</td>\n",
       "      <td>0</td>\n",
       "      <td>0</td>\n",
       "      <td>0</td>\n",
       "      <td>...</td>\n",
       "      <td>0</td>\n",
       "      <td>0</td>\n",
       "      <td>0</td>\n",
       "      <td>0</td>\n",
       "      <td>0</td>\n",
       "      <td>0</td>\n",
       "      <td>0</td>\n",
       "      <td>0</td>\n",
       "      <td>0</td>\n",
       "      <td>0</td>\n",
       "    </tr>\n",
       "  </tbody>\n",
       "</table>\n",
       "<p>398 rows × 1016 columns</p>\n",
       "</div>"
      ],
      "text/plain": [
       "                    Disease_name  Abdomen, Acute  Abdominal Pain  \\\n",
       "0                      Achalasia               0               0   \n",
       "1                     Acromegaly               0               0   \n",
       "2            Alzheimer's disease               0               0   \n",
       "3                    Amyloidosis               0               0   \n",
       "4                        Ascites               0               0   \n",
       "..                           ...             ...             ...   \n",
       "393           vitamin - a-mangel               0               0   \n",
       "394           vorhofseptumdefekt               0               0   \n",
       "395    wernicke - encephalopathy               0               0   \n",
       "396  williams - beuren - syndrom               0               0   \n",
       "397                   zinkmangel               0               0   \n",
       "\n",
       "     Abdominal bloating  Abdominal colic  Abducens Nerve Diseases  \\\n",
       "0                     0                0                        0   \n",
       "1                     0                0                        0   \n",
       "2                     0                0                        0   \n",
       "3                     0                0                        0   \n",
       "4                     1                0                        0   \n",
       "..                  ...              ...                      ...   \n",
       "393                   0                0                        0   \n",
       "394                   0                0                        0   \n",
       "395                   0                0                        0   \n",
       "396                   0                0                        0   \n",
       "397                   0                0                        0   \n",
       "\n",
       "     Abnormal bowel sounds  Abnormal breathing  Abnormal heart beat  \\\n",
       "0                        0                   0                    0   \n",
       "1                        0                   0                    0   \n",
       "2                        0                   0                    0   \n",
       "3                        0                   0                    0   \n",
       "4                        0                   0                    0   \n",
       "..                     ...                 ...                  ...   \n",
       "393                      0                   0                    0   \n",
       "394                      0                   0                    0   \n",
       "395                      0                   0                    0   \n",
       "396                      0                   0                    0   \n",
       "397                      0                   0                    0   \n",
       "\n",
       "     Abnormal sputum  ...  urinoma  verbal auditory hallucinations  \\\n",
       "0                  0  ...        0                               0   \n",
       "1                  0  ...        0                               0   \n",
       "2                  0  ...        0                               0   \n",
       "3                  0  ...        0                               0   \n",
       "4                  0  ...        0                               0   \n",
       "..               ...  ...      ...                             ...   \n",
       "393                0  ...        0                               0   \n",
       "394                0  ...        0                               0   \n",
       "395                0  ...        0                               0   \n",
       "396                0  ...        0                               0   \n",
       "397                0  ...        0                               0   \n",
       "\n",
       "     verbally abusive behavior  vision blurred  weepiness  welt  \\\n",
       "0                            0               0          0     0   \n",
       "1                            0               0          0     0   \n",
       "2                            0               0          0     0   \n",
       "3                            0               0          0     0   \n",
       "4                            0               0          0     0   \n",
       "..                         ...             ...        ...   ...   \n",
       "393                          0               0          0     0   \n",
       "394                          0               0          0     0   \n",
       "395                          0               0          0     0   \n",
       "396                          0               0          0     0   \n",
       "397                          0               0          0     0   \n",
       "\n",
       "     wheelchair bound  withdraw  worry  yellow sputum  \n",
       "0                   0         0      0              0  \n",
       "1                   0         0      0              0  \n",
       "2                   1         0      0              0  \n",
       "3                   0         0      0              0  \n",
       "4                   0         0      0              0  \n",
       "..                ...       ...    ...            ...  \n",
       "393                 0         0      0              0  \n",
       "394                 0         0      0              0  \n",
       "395                 0         0      0              0  \n",
       "396                 0         0      0              0  \n",
       "397                 0         0      0              0  \n",
       "\n",
       "[398 rows x 1016 columns]"
      ]
     },
     "execution_count": 3,
     "metadata": {},
     "output_type": "execute_result"
    }
   ],
   "source": [
    "data"
   ]
  },
  {
   "cell_type": "code",
   "execution_count": 7,
   "metadata": {},
   "outputs": [
    {
     "ename": "KeyError",
     "evalue": "\"None of [Index([''], dtype='object')] are in the [columns]\"",
     "output_type": "error",
     "traceback": [
      "\u001b[1;31m---------------------------------------------------------------------------\u001b[0m",
      "\u001b[1;31mKeyError\u001b[0m                                  Traceback (most recent call last)",
      "\u001b[1;32m<ipython-input-7-62e8932765e1>\u001b[0m in \u001b[0;36m<module>\u001b[1;34m\u001b[0m\n\u001b[1;32m----> 1\u001b[1;33m \u001b[0mdata\u001b[0m\u001b[1;33m[\u001b[0m\u001b[1;33m[\u001b[0m\u001b[1;34m\"\"\u001b[0m\u001b[1;33m]\u001b[0m\u001b[1;33m]\u001b[0m\u001b[1;33m\u001b[0m\u001b[1;33m\u001b[0m\u001b[0m\n\u001b[0m",
      "\u001b[1;32m~\\Anaconda3\\lib\\site-packages\\pandas\\core\\frame.py\u001b[0m in \u001b[0;36m__getitem__\u001b[1;34m(self, key)\u001b[0m\n\u001b[0;32m   2984\u001b[0m             \u001b[1;32mif\u001b[0m \u001b[0mis_iterator\u001b[0m\u001b[1;33m(\u001b[0m\u001b[0mkey\u001b[0m\u001b[1;33m)\u001b[0m\u001b[1;33m:\u001b[0m\u001b[1;33m\u001b[0m\u001b[1;33m\u001b[0m\u001b[0m\n\u001b[0;32m   2985\u001b[0m                 \u001b[0mkey\u001b[0m \u001b[1;33m=\u001b[0m \u001b[0mlist\u001b[0m\u001b[1;33m(\u001b[0m\u001b[0mkey\u001b[0m\u001b[1;33m)\u001b[0m\u001b[1;33m\u001b[0m\u001b[1;33m\u001b[0m\u001b[0m\n\u001b[1;32m-> 2986\u001b[1;33m             \u001b[0mindexer\u001b[0m \u001b[1;33m=\u001b[0m \u001b[0mself\u001b[0m\u001b[1;33m.\u001b[0m\u001b[0mloc\u001b[0m\u001b[1;33m.\u001b[0m\u001b[0m_convert_to_indexer\u001b[0m\u001b[1;33m(\u001b[0m\u001b[0mkey\u001b[0m\u001b[1;33m,\u001b[0m \u001b[0maxis\u001b[0m\u001b[1;33m=\u001b[0m\u001b[1;36m1\u001b[0m\u001b[1;33m,\u001b[0m \u001b[0mraise_missing\u001b[0m\u001b[1;33m=\u001b[0m\u001b[1;32mTrue\u001b[0m\u001b[1;33m)\u001b[0m\u001b[1;33m\u001b[0m\u001b[1;33m\u001b[0m\u001b[0m\n\u001b[0m\u001b[0;32m   2987\u001b[0m \u001b[1;33m\u001b[0m\u001b[0m\n\u001b[0;32m   2988\u001b[0m         \u001b[1;31m# take() does not accept boolean indexers\u001b[0m\u001b[1;33m\u001b[0m\u001b[1;33m\u001b[0m\u001b[1;33m\u001b[0m\u001b[0m\n",
      "\u001b[1;32m~\\Anaconda3\\lib\\site-packages\\pandas\\core\\indexing.py\u001b[0m in \u001b[0;36m_convert_to_indexer\u001b[1;34m(self, obj, axis, is_setter, raise_missing)\u001b[0m\n\u001b[0;32m   1283\u001b[0m                 \u001b[1;31m# When setting, missing keys are not allowed, even with .loc:\u001b[0m\u001b[1;33m\u001b[0m\u001b[1;33m\u001b[0m\u001b[1;33m\u001b[0m\u001b[0m\n\u001b[0;32m   1284\u001b[0m                 \u001b[0mkwargs\u001b[0m \u001b[1;33m=\u001b[0m \u001b[1;33m{\u001b[0m\u001b[1;34m\"raise_missing\"\u001b[0m\u001b[1;33m:\u001b[0m \u001b[1;32mTrue\u001b[0m \u001b[1;32mif\u001b[0m \u001b[0mis_setter\u001b[0m \u001b[1;32melse\u001b[0m \u001b[0mraise_missing\u001b[0m\u001b[1;33m}\u001b[0m\u001b[1;33m\u001b[0m\u001b[1;33m\u001b[0m\u001b[0m\n\u001b[1;32m-> 1285\u001b[1;33m                 \u001b[1;32mreturn\u001b[0m \u001b[0mself\u001b[0m\u001b[1;33m.\u001b[0m\u001b[0m_get_listlike_indexer\u001b[0m\u001b[1;33m(\u001b[0m\u001b[0mobj\u001b[0m\u001b[1;33m,\u001b[0m \u001b[0maxis\u001b[0m\u001b[1;33m,\u001b[0m \u001b[1;33m**\u001b[0m\u001b[0mkwargs\u001b[0m\u001b[1;33m)\u001b[0m\u001b[1;33m[\u001b[0m\u001b[1;36m1\u001b[0m\u001b[1;33m]\u001b[0m\u001b[1;33m\u001b[0m\u001b[1;33m\u001b[0m\u001b[0m\n\u001b[0m\u001b[0;32m   1286\u001b[0m         \u001b[1;32melse\u001b[0m\u001b[1;33m:\u001b[0m\u001b[1;33m\u001b[0m\u001b[1;33m\u001b[0m\u001b[0m\n\u001b[0;32m   1287\u001b[0m             \u001b[1;32mtry\u001b[0m\u001b[1;33m:\u001b[0m\u001b[1;33m\u001b[0m\u001b[1;33m\u001b[0m\u001b[0m\n",
      "\u001b[1;32m~\\Anaconda3\\lib\\site-packages\\pandas\\core\\indexing.py\u001b[0m in \u001b[0;36m_get_listlike_indexer\u001b[1;34m(self, key, axis, raise_missing)\u001b[0m\n\u001b[0;32m   1090\u001b[0m \u001b[1;33m\u001b[0m\u001b[0m\n\u001b[0;32m   1091\u001b[0m         self._validate_read_indexer(\n\u001b[1;32m-> 1092\u001b[1;33m             \u001b[0mkeyarr\u001b[0m\u001b[1;33m,\u001b[0m \u001b[0mindexer\u001b[0m\u001b[1;33m,\u001b[0m \u001b[0mo\u001b[0m\u001b[1;33m.\u001b[0m\u001b[0m_get_axis_number\u001b[0m\u001b[1;33m(\u001b[0m\u001b[0maxis\u001b[0m\u001b[1;33m)\u001b[0m\u001b[1;33m,\u001b[0m \u001b[0mraise_missing\u001b[0m\u001b[1;33m=\u001b[0m\u001b[0mraise_missing\u001b[0m\u001b[1;33m\u001b[0m\u001b[1;33m\u001b[0m\u001b[0m\n\u001b[0m\u001b[0;32m   1093\u001b[0m         )\n\u001b[0;32m   1094\u001b[0m         \u001b[1;32mreturn\u001b[0m \u001b[0mkeyarr\u001b[0m\u001b[1;33m,\u001b[0m \u001b[0mindexer\u001b[0m\u001b[1;33m\u001b[0m\u001b[1;33m\u001b[0m\u001b[0m\n",
      "\u001b[1;32m~\\Anaconda3\\lib\\site-packages\\pandas\\core\\indexing.py\u001b[0m in \u001b[0;36m_validate_read_indexer\u001b[1;34m(self, key, indexer, axis, raise_missing)\u001b[0m\n\u001b[0;32m   1175\u001b[0m                 raise KeyError(\n\u001b[0;32m   1176\u001b[0m                     \"None of [{key}] are in the [{axis}]\".format(\n\u001b[1;32m-> 1177\u001b[1;33m                         \u001b[0mkey\u001b[0m\u001b[1;33m=\u001b[0m\u001b[0mkey\u001b[0m\u001b[1;33m,\u001b[0m \u001b[0maxis\u001b[0m\u001b[1;33m=\u001b[0m\u001b[0mself\u001b[0m\u001b[1;33m.\u001b[0m\u001b[0mobj\u001b[0m\u001b[1;33m.\u001b[0m\u001b[0m_get_axis_name\u001b[0m\u001b[1;33m(\u001b[0m\u001b[0maxis\u001b[0m\u001b[1;33m)\u001b[0m\u001b[1;33m\u001b[0m\u001b[1;33m\u001b[0m\u001b[0m\n\u001b[0m\u001b[0;32m   1178\u001b[0m                     )\n\u001b[0;32m   1179\u001b[0m                 )\n",
      "\u001b[1;31mKeyError\u001b[0m: \"None of [Index([''], dtype='object')] are in the [columns]\""
     ]
    }
   ],
   "source": [
    "data[[\"\"]]"
   ]
  },
  {
   "cell_type": "code",
   "execution_count": null,
   "metadata": {},
   "outputs": [],
   "source": []
  },
  {
   "cell_type": "code",
   "execution_count": 4,
   "metadata": {
    "colab": {},
    "colab_type": "code",
    "id": "dqpuIMyS9oPc"
   },
   "outputs": [],
   "source": [
    "X = data[data.columns[1:]]\n",
    "y = data['Disease_name']"
   ]
  },
  {
   "cell_type": "code",
   "execution_count": 6,
   "metadata": {
    "colab": {},
    "colab_type": "code",
    "id": "JZeJ33O7-JL5"
   },
   "outputs": [],
   "source": [
    "X_train, X_test, y_train, y_test = train_test_split(X, y, test_size = 0.3, random_state = 21)"
   ]
  },
  {
   "cell_type": "code",
   "execution_count": 7,
   "metadata": {
    "cellView": "both",
    "colab": {
     "base_uri": "https://localhost:8080/",
     "height": 151
    },
    "colab_type": "code",
    "id": "yU_eolL2AKuf",
    "outputId": "f5ab8c8a-67fd-47c8-d01d-845d379bd714"
   },
   "outputs": [
    {
     "data": {
      "text/plain": [
       "RandomForestClassifier(bootstrap=True, class_weight=None, criterion='entropy',\n",
       "                       max_depth=45, max_features=None, max_leaf_nodes=None,\n",
       "                       min_impurity_decrease=0.01, min_impurity_split=None,\n",
       "                       min_samples_leaf=2, min_samples_split=3,\n",
       "                       min_weight_fraction_leaf=0.0, n_estimators=80,\n",
       "                       n_jobs=None, oob_score=False, random_state=21, verbose=0,\n",
       "                       warm_start=False)"
      ]
     },
     "execution_count": 7,
     "metadata": {},
     "output_type": "execute_result"
    }
   ],
   "source": [
    "#@title Training { output-height: 40, form-width: \"40%\" }\n",
    "### Training\n",
    "clf = RandomForestClassifier(n_estimators=80,\n",
    "                             criterion = 'entropy',\n",
    "                             max_depth = 45,\n",
    "                             min_samples_split = 3,\n",
    "                             min_samples_leaf = 2,\n",
    "                             max_features = None,\n",
    "                             min_impurity_decrease = 0.01,\n",
    "                             random_state = 21\n",
    "                             )\n",
    "clf.fit(X,y)"
   ]
  },
  {
   "cell_type": "code",
   "execution_count": 8,
   "metadata": {
    "colab": {},
    "colab_type": "code",
    "id": "TQAqaSlgD05y"
   },
   "outputs": [],
   "source": [
    "from sklearn.metrics import confusion_matrix, accuracy_score"
   ]
  },
  {
   "cell_type": "code",
   "execution_count": 9,
   "metadata": {
    "colab": {
     "base_uri": "https://localhost:8080/",
     "height": 34
    },
    "colab_type": "code",
    "id": "XjjSL8y0Babw",
    "outputId": "ee2800d5-76d7-4dee-a2d8-c70497da39e3"
   },
   "outputs": [
    {
     "name": "stdout",
     "output_type": "stream",
     "text": [
      "Accuracy: 0.8819095477386935\n"
     ]
    }
   ],
   "source": [
    "y_pred = clf.predict(X)\n",
    "\n",
    "#reversefactor = dict(zip(range(len(definitions)),definitions))\n",
    "#y_test = np.vectorize(reversefactor.get)(y_test)\n",
    "#y_pred = np.vectorize(reversefactor.get)(y_pred)\n",
    "\n",
    "# Confusion Matrix\n",
    "#print(pd.crosstab(y_test, y_pred, rownames=['Actual Disease'], colnames = ['Predicted Disease']))\n",
    "\n",
    "print(f'Accuracy: {accuracy_score(y, y_pred)}')"
   ]
  },
  {
   "cell_type": "code",
   "execution_count": 0,
   "metadata": {
    "colab": {},
    "colab_type": "code",
    "id": "mPx_BfJpIBvq"
   },
   "outputs": [],
   "source": []
  },
  {
   "cell_type": "code",
   "execution_count": 11,
   "metadata": {
    "colab": {
     "base_uri": "https://localhost:8080/",
     "height": 34
    },
    "colab_type": "code",
    "id": "fBhyVZzlI4sT",
    "outputId": "cdebd3f3-b8ec-40d1-ba3a-fb4c2ac6bffa"
   },
   "outputs": [
    {
     "name": "stdout",
     "output_type": "stream",
     "text": [
      "Accuracy: 0.8666666666666667\n"
     ]
    }
   ],
   "source": [
    "import pickle\n",
    "\n",
    "with open('RFClassifier.pkl','wb') as rf:\n",
    "  pickle.dump(clf, rf)\n",
    "\n",
    "with open('RFClassifier.pkl', 'rb') as f:\n",
    "    rf = pickle.load(f)\n",
    "\n",
    "y_pred = rf.predict(X_test)\n",
    "print(f'Accuracy: {accuracy_score(y_test, y_pred)}')"
   ]
  },
  {
   "cell_type": "code",
   "execution_count": 0,
   "metadata": {
    "colab": {},
    "colab_type": "code",
    "id": "89I4L8uCI4lA"
   },
   "outputs": [],
   "source": []
  },
  {
   "cell_type": "code",
   "execution_count": 0,
   "metadata": {
    "colab": {},
    "colab_type": "code",
    "id": "wbEue0dfIBtJ"
   },
   "outputs": [],
   "source": [
    "import joblib"
   ]
  },
  {
   "cell_type": "code",
   "execution_count": 16,
   "metadata": {
    "colab": {
     "base_uri": "https://localhost:8080/",
     "height": 34
    },
    "colab_type": "code",
    "id": "So59jKTBIBno",
    "outputId": "f45ea14e-8451-4ea1-d911-69024cac9ff9"
   },
   "outputs": [
    {
     "data": {
      "text/plain": [
       "['data/MES.pkl']"
      ]
     },
     "execution_count": 16,
     "metadata": {},
     "output_type": "execute_result"
    }
   ],
   "source": [
    "joblib.dump(clf, 'data/MES.pkl')"
   ]
  },
  {
   "cell_type": "code",
   "execution_count": 0,
   "metadata": {
    "colab": {},
    "colab_type": "code",
    "id": "MkuM3KtPIBhu"
   },
   "outputs": [],
   "source": []
  },
  {
   "cell_type": "code",
   "execution_count": 0,
   "metadata": {
    "colab": {},
    "colab_type": "code",
    "id": "1_71tQZwIBbx"
   },
   "outputs": [],
   "source": []
  },
  {
   "cell_type": "code",
   "execution_count": 0,
   "metadata": {
    "colab": {
     "base_uri": "https://localhost:8080/",
     "height": 34
    },
    "colab_type": "code",
    "id": "0osRkfPTDruf",
    "outputId": "41e22142-3976-4f26-f742-e9c8f268f593"
   },
   "outputs": [
    {
     "name": "stdout",
     "output_type": "stream",
     "text": [
      "Accuracy: 0.03231151615575808\n"
     ]
    }
   ],
   "source": []
  },
  {
   "cell_type": "code",
   "execution_count": 0,
   "metadata": {
    "colab": {},
    "colab_type": "code",
    "id": "8BzgJkfODDaa"
   },
   "outputs": [],
   "source": [
    "y_prob = clf.predict_proba(X_test)[:,1]"
   ]
  },
  {
   "cell_type": "code",
   "execution_count": 0,
   "metadata": {
    "colab": {
     "base_uri": "https://localhost:8080/",
     "height": 420
    },
    "colab_type": "code",
    "id": "hpjGHTYQDevg",
    "outputId": "eb821a99-a1ed-4f46-976b-39d2c70d65e9"
   },
   "outputs": [
    {
     "data": {
      "text/plain": [
       "array([0.        , 0.        , 0.        , 0.        , 0.        ,\n",
       "       0.        , 0.        , 0.        , 0.        , 0.        ,\n",
       "       0.        , 0.        , 0.0687619 , 0.        , 0.        ,\n",
       "       0.        , 0.        , 0.        , 0.        , 0.        ,\n",
       "       0.        , 0.        , 0.04042857, 0.        , 0.        ,\n",
       "       0.        , 0.        , 0.        , 0.        , 0.        ,\n",
       "       0.06209524, 0.015     , 0.        , 0.        , 0.        ,\n",
       "       0.        , 0.        , 0.        , 0.        , 0.        ,\n",
       "       0.        , 0.        , 0.        , 0.        , 0.        ,\n",
       "       0.        , 0.        , 0.        , 0.        , 0.        ,\n",
       "       0.        , 0.        , 0.        , 0.        , 0.        ,\n",
       "       0.        , 0.        , 0.        , 0.00571429, 0.        ,\n",
       "       0.        , 0.        , 0.        , 0.        , 0.        ,\n",
       "       0.        , 0.        , 0.        , 0.        , 0.        ,\n",
       "       0.        , 0.        , 0.        , 0.        , 0.        ,\n",
       "       0.        , 0.        , 0.        , 0.        , 0.09471429,\n",
       "       0.00571429, 0.        , 0.        , 0.        , 0.        ,\n",
       "       0.        , 0.        , 0.        , 0.        , 0.        ,\n",
       "       0.        , 0.        , 0.        , 0.        , 0.        ,\n",
       "       0.        , 0.        , 0.        , 0.        , 0.        ,\n",
       "       0.        , 0.        , 0.00571429, 0.        , 0.        ,\n",
       "       0.        , 0.        , 0.        , 0.        , 0.        ,\n",
       "       0.        , 0.005     , 0.        , 0.        , 0.        ,\n",
       "       0.11504762, 0.        , 0.06209524, 0.        , 0.        ])"
      ]
     },
     "execution_count": 13,
     "metadata": {
      "tags": []
     },
     "output_type": "execute_result"
    }
   ],
   "source": [
    "y_prob"
   ]
  },
  {
   "cell_type": "code",
   "execution_count": 0,
   "metadata": {
    "colab": {},
    "colab_type": "code",
    "id": "es_V4UtpFAUp"
   },
   "outputs": [],
   "source": []
  },
  {
   "cell_type": "code",
   "execution_count": 3,
   "metadata": {
    "colab": {},
    "colab_type": "code",
    "id": "bMQ-PceN6OUs"
   },
   "outputs": [],
   "source": [
    "rf = joblib.load('data/MES.pkl')"
   ]
  },
  {
   "cell_type": "code",
   "execution_count": 4,
   "metadata": {
    "colab": {},
    "colab_type": "code",
    "id": "u5fAJ1QO8O60"
   },
   "outputs": [],
   "source": [
    "import matplotlib.pyplot as plt\n",
    "%matplotlib inline\n",
    "\n",
    "importances = rf.feature_importances_\n",
    "indices = np.argsort(importances)[::-1]\n",
    "\n",
    "features = data.columns[1:]"
   ]
  },
  {
   "cell_type": "code",
   "execution_count": 5,
   "metadata": {
    "colab": {
     "base_uri": "https://localhost:8080/",
     "height": 269
    },
    "colab_type": "code",
    "id": "PkYUjaqmTUkj",
    "outputId": "67f031fb-f66b-4b25-c225-8b0c46adb5c5"
   },
   "outputs": [
    {
     "name": "stdout",
     "output_type": "stream",
     "text": [
      "1-> feature 249\t: Fever (0.13078827508538443)\n",
      "2-> feature 199\t: Dyspnea (0.07715411354703476)\n",
      "3-> feature 461\t: Nausea (0.07206109559378378)\n",
      "4-> feature 497\t: Pain (0.051666670010950655)\n",
      "5-> feature 152\t: Coughing (0.044640172076043476)\n",
      "6-> feature 242\t: Fatigue (0.04407723646150872)\n",
      "7-> feature 174\t: Diarrhea (0.036443475583585364)\n",
      "8-> feature 281\t: Headache (0.03614698419775362)\n",
      "9-> feature 960\t: shortness of breath (0.026892418022763438)\n",
      "10-> feature 563\t: Pruritus (0.026002177898219188)\n",
      "11-> feature 684\t: Tremor (0.02550214218858083)\n",
      "12-> feature 329\t: Hypertensive disease (0.02468948637847307)\n",
      "13-> feature 716\t: Vomiting (0.023539602864374957)\n",
      "14-> feature 643\t: Splenomegaly (0.017201086798067866)\n",
      "15-> feature 119\t: Chills (0.015214749326231536)\n"
     ]
    }
   ],
   "source": [
    "for i in range(15):\n",
    "  print(f\"{i+1}-> feature {indices[i]}\\t: {features[indices[i]]} ({importances[indices[i]]})\")"
   ]
  },
  {
   "cell_type": "code",
   "execution_count": 6,
   "metadata": {
    "colab": {},
    "colab_type": "code",
    "id": "7m3SDfC9WXD3"
   },
   "outputs": [],
   "source": [
    "Fea_Dict = {}\n",
    "for i,f in enumerate(features):\n",
    "  Fea_Dict[f] = i"
   ]
  },
  {
   "cell_type": "code",
   "execution_count": 8,
   "metadata": {
    "colab": {
     "base_uri": "https://localhost:8080/",
     "height": 34
    },
    "colab_type": "code",
    "id": "nGGERPvwfbws",
    "outputId": "996c5667-7b98-4692-97e4-ee945c61f008"
   },
   "outputs": [
    {
     "data": {
      "text/plain": [
       "array(['malaria'], dtype=object)"
      ]
     },
     "execution_count": 8,
     "metadata": {},
     "output_type": "execute_result"
    }
   ],
   "source": [
    "search = ['Diarrhea','Nausea','Vomiting','Chills','Fever','Headache']\n",
    "\n",
    "sample = np.zeros((len(features),), dtype=np.int)\n",
    "\n",
    "for i,s in enumerate(search):\n",
    "  sample[Fea_Dict[s]] = 1\n",
    "\n",
    "sample_in = np.array(sample).reshape(1,len(sample))\n",
    "\n",
    "rf.predict(sample_in)"
   ]
  },
  {
   "cell_type": "code",
   "execution_count": 0,
   "metadata": {
    "colab": {},
    "colab_type": "code",
    "id": "O4hC35pJVr_r"
   },
   "outputs": [],
   "source": []
  },
  {
   "cell_type": "code",
   "execution_count": 9,
   "metadata": {
    "colab": {},
    "colab_type": "code",
    "id": "5QGc-gAJrxw3"
   },
   "outputs": [],
   "source": [
    "c  = pd.DataFrame(rf.predict_proba(sample_in), columns=rf.classes_)"
   ]
  },
  {
   "cell_type": "code",
   "execution_count": 15,
   "metadata": {
    "colab": {
     "base_uri": "https://localhost:8080/",
     "height": 176
    },
    "colab_type": "code",
    "id": "kCyx171fuTaZ",
    "outputId": "84f8312f-54d4-47b9-9951-ae2b4659a81f"
   },
   "outputs": [],
   "source": [
    "c = c.sort_values(axis=1, by= 0, ascending= False)"
   ]
  },
  {
   "cell_type": "code",
   "execution_count": null,
   "metadata": {},
   "outputs": [],
   "source": []
  },
  {
   "cell_type": "code",
   "execution_count": 19,
   "metadata": {},
   "outputs": [],
   "source": [
    "c = c[c>0.0].dropna(axis=1)"
   ]
  },
  {
   "cell_type": "code",
   "execution_count": 21,
   "metadata": {},
   "outputs": [],
   "source": [
    "d = c.to_dict('split')"
   ]
  },
  {
   "cell_type": "code",
   "execution_count": 22,
   "metadata": {},
   "outputs": [],
   "source": [
    "d = dict((i,d[i]) for i in d.keys() if i!='index')"
   ]
  },
  {
   "cell_type": "code",
   "execution_count": 23,
   "metadata": {},
   "outputs": [
    {
     "data": {
      "text/plain": [
       "{'columns': ['malaria',\n",
       "  'chronic renal insufficiency',\n",
       "  'pyelonephritis',\n",
       "  'cerebral venous thrombosis',\n",
       "  'meningitis',\n",
       "  'thyreotoxic crisis',\n",
       "  'q - fever',\n",
       "  'systemic lupus erythematosus',\n",
       "  'migraene',\n",
       "  'bacteremia',\n",
       "  'exsikkose',\n",
       "  'melanoma',\n",
       "  'colitis',\n",
       "  'Scarlet',\n",
       "  'allergic alveolitis , exogenous',\n",
       "  'hepatitis',\n",
       "  'exanthema',\n",
       "  'influenza',\n",
       "  'rheumatic fever',\n",
       "  'Rhabdomyolysis',\n",
       "  'atypical pneumonia',\n",
       "  'cholesteatom',\n",
       "  'Encephalitis',\n",
       "  'herxheimer - reaction',\n",
       "  'spasm bronchial',\n",
       "  'urosepsis',\n",
       "  'infektioese endocarditis',\n",
       "  'Varicella',\n",
       "  'morbus whipple',\n",
       "  'gastroenteritis',\n",
       "  'acute bronchitis',\n",
       "  'acute pancreatitis',\n",
       "  'divertikulitis',\n",
       "  'lymphangitis',\n",
       "  'pneumonia durch legionella',\n",
       "  'infection',\n",
       "  'alcoholic liver disease'],\n",
       " 'data': [[0.16047619047619052,\n",
       "   0.1456547619047619,\n",
       "   0.1137202380952381,\n",
       "   0.06845238095238096,\n",
       "   0.06625,\n",
       "   0.06229166666666667,\n",
       "   0.049583333333333326,\n",
       "   0.03211309523809524,\n",
       "   0.029166666666666664,\n",
       "   0.028392857142857143,\n",
       "   0.025535714285714283,\n",
       "   0.022470238095238095,\n",
       "   0.01958333333333333,\n",
       "   0.018749999999999996,\n",
       "   0.014583333333333332,\n",
       "   0.013541666666666665,\n",
       "   0.011726190476190477,\n",
       "   0.011160714285714284,\n",
       "   0.010327380952380952,\n",
       "   0.008333333333333333,\n",
       "   0.008035714285714285,\n",
       "   0.007916666666666666,\n",
       "   0.007321428571428571,\n",
       "   0.006696428571428571,\n",
       "   0.00625,\n",
       "   0.00625,\n",
       "   0.00625,\n",
       "   0.005625,\n",
       "   0.005625,\n",
       "   0.005625,\n",
       "   0.004166666666666667,\n",
       "   0.004166666666666667,\n",
       "   0.004166666666666667,\n",
       "   0.003125,\n",
       "   0.0025,\n",
       "   0.0020833333333333333,\n",
       "   0.0020833333333333333]]}"
      ]
     },
     "execution_count": 23,
     "metadata": {},
     "output_type": "execute_result"
    }
   ],
   "source": [
    "d"
   ]
  },
  {
   "cell_type": "code",
   "execution_count": null,
   "metadata": {},
   "outputs": [],
   "source": []
  },
  {
   "cell_type": "code",
   "execution_count": null,
   "metadata": {},
   "outputs": [],
   "source": []
  },
  {
   "cell_type": "code",
   "execution_count": 0,
   "metadata": {
    "colab": {},
    "colab_type": "code",
    "id": "yb1isloGCuPy"
   },
   "outputs": [],
   "source": []
  },
  {
   "cell_type": "code",
   "execution_count": 0,
   "metadata": {
    "colab": {
     "base_uri": "https://localhost:8080/",
     "height": 34
    },
    "colab_type": "code",
    "id": "aXYbAKwEWK4o",
    "outputId": "cca3adff-0104-45f6-9ae4-965d64bd0871"
   },
   "outputs": [
    {
     "data": {
      "text/plain": [
       "array(['schizophrenia'], dtype=object)"
      ]
     },
     "execution_count": 15,
     "metadata": {
      "tags": []
     },
     "output_type": "execute_result"
    }
   ],
   "source": [
    "search = ['Agitation','Delusions','Hallucinations','Irritable Mood']\n",
    "\n",
    "sample = np.zeros((len(features),), dtype=np.int)\n",
    "\n",
    "for i,s in enumerate(search):\n",
    "  sample[Fea_Dict[s]] = 1\n",
    "\n",
    "sample_in = np.array(sample).reshape(1,len(sample))\n",
    "\n",
    "clf.predict(sample_in)"
   ]
  },
  {
   "cell_type": "code",
   "execution_count": 0,
   "metadata": {
    "colab": {},
    "colab_type": "code",
    "id": "IFdmG4CzfJxX"
   },
   "outputs": [],
   "source": []
  },
  {
   "cell_type": "code",
   "execution_count": 0,
   "metadata": {
    "colab": {},
    "colab_type": "code",
    "id": "1TxPUGE7Cwwt"
   },
   "outputs": [],
   "source": [
    "c  = pd.DataFrame(clf.predict_proba(sample_in), columns=clf.classes_)"
   ]
  },
  {
   "cell_type": "code",
   "execution_count": 0,
   "metadata": {
    "colab": {
     "base_uri": "https://localhost:8080/",
     "height": 210
    },
    "colab_type": "code",
    "id": "I5swpWqBCww6",
    "outputId": "ab966b06-fff8-452b-97cd-a1336e61dc3d"
   },
   "outputs": [
    {
     "data": {
      "text/html": [
       "<div>\n",
       "<style scoped>\n",
       "    .dataframe tbody tr th:only-of-type {\n",
       "        vertical-align: middle;\n",
       "    }\n",
       "\n",
       "    .dataframe tbody tr th {\n",
       "        vertical-align: top;\n",
       "    }\n",
       "\n",
       "    .dataframe thead th {\n",
       "        text-align: right;\n",
       "    }\n",
       "</style>\n",
       "<table border=\"1\" class=\"dataframe\">\n",
       "  <thead>\n",
       "    <tr style=\"text-align: right;\">\n",
       "      <th></th>\n",
       "      <th>schizophrenia</th>\n",
       "      <th>lewy - coerper - dementia</th>\n",
       "      <th>delusion</th>\n",
       "      <th>herpes zoster dermatitis</th>\n",
       "      <th>late skin porphyria</th>\n",
       "      <th>fazialisparesis</th>\n",
       "      <th>williams - beuren - syndrom</th>\n",
       "      <th>schilddruesen-related orbitopathy</th>\n",
       "      <th>glucose phosphatase deficiency 06</th>\n",
       "      <th>malignant neoplasm of lung</th>\n",
       "      <th>Ascites</th>\n",
       "      <th>guillain - barre - syndrome</th>\n",
       "      <th>acrodermatitis enteropathica</th>\n",
       "      <th>clostridien - gastroenteritis</th>\n",
       "      <th>chronic bronchitis</th>\n",
       "      <th>pleuraerguss</th>\n",
       "      <th>roeteln</th>\n",
       "      <th>diabetic nephropathy</th>\n",
       "      <th>gilbert syndrome</th>\n",
       "      <th>katatonie</th>\n",
       "      <th>hepatitis , alcoholic</th>\n",
       "      <th>psoriasis</th>\n",
       "      <th>childish zerebralparese</th>\n",
       "      <th>broca - aphasia</th>\n",
       "      <th>aphasia</th>\n",
       "      <th>Cataract</th>\n",
       "      <th>hydrops fetalis</th>\n",
       "      <th>harnverhaltung</th>\n",
       "      <th>Lead poisoning</th>\n",
       "      <th>renalosteopathiesyndrom</th>\n",
       "      <th>spondylarthritis</th>\n",
       "      <th>otitis media</th>\n",
       "      <th>retinal abloesung</th>\n",
       "      <th>diabetes insipidus</th>\n",
       "      <th>marfan - syndrome</th>\n",
       "      <th>vitamin - a-mangel</th>\n",
       "      <th>benign prostate hyperplasia</th>\n",
       "      <th>Rickets</th>\n",
       "      <th>mycoplasma infection , not referred to as a naeher</th>\n",
       "      <th>chlamydia pneumoniae - infection</th>\n",
       "      <th>...</th>\n",
       "      <th>lymphatic diseases</th>\n",
       "      <th>lymphoma</th>\n",
       "      <th>magenkarzinom</th>\n",
       "      <th>magnesium deficiency</th>\n",
       "      <th>malaria</th>\n",
       "      <th>infektioese endocarditis</th>\n",
       "      <th>infection with bacillus anthracis</th>\n",
       "      <th>infection urinary tract</th>\n",
       "      <th>asthma chronic</th>\n",
       "      <th>bronchiolitis</th>\n",
       "      <th>hepatitis , chronic</th>\n",
       "      <th>brain tumor boes-like</th>\n",
       "      <th>hepatitis C</th>\n",
       "      <th>hepatocellulaeres carcinoma</th>\n",
       "      <th>hernia</th>\n",
       "      <th>hernia hiatal</th>\n",
       "      <th>Acromegaly</th>\n",
       "      <th>herxheimer - reaction</th>\n",
       "      <th>bacteremia</th>\n",
       "      <th>hirnoedem</th>\n",
       "      <th>hodgkin's morbus</th>\n",
       "      <th>atypical pneumonia</th>\n",
       "      <th>atypical mycobactusriosis</th>\n",
       "      <th>asthma</th>\n",
       "      <th>infection</th>\n",
       "      <th>hypercalcaemia</th>\n",
       "      <th>hypercholesterolemia</th>\n",
       "      <th>hyperglycemia</th>\n",
       "      <th>arthritis</th>\n",
       "      <th>hyperlipidemia</th>\n",
       "      <th>hypersplenismus</th>\n",
       "      <th>hypertensive cardiomyopathy</th>\n",
       "      <th>hypertensive disease</th>\n",
       "      <th>hypoglycaemia</th>\n",
       "      <th>aortenstenose</th>\n",
       "      <th>hypothyroidism</th>\n",
       "      <th>ileus</th>\n",
       "      <th>aortenklappeninsuffizienz</th>\n",
       "      <th>aortendissektion</th>\n",
       "      <th>zinkmangel</th>\n",
       "    </tr>\n",
       "  </thead>\n",
       "  <tbody>\n",
       "    <tr>\n",
       "      <th>0</th>\n",
       "      <td>0.060789</td>\n",
       "      <td>0.050473</td>\n",
       "      <td>0.030245</td>\n",
       "      <td>0.025986</td>\n",
       "      <td>0.025941</td>\n",
       "      <td>0.023117</td>\n",
       "      <td>0.022832</td>\n",
       "      <td>0.022155</td>\n",
       "      <td>0.02192</td>\n",
       "      <td>0.021815</td>\n",
       "      <td>0.021803</td>\n",
       "      <td>0.021516</td>\n",
       "      <td>0.021436</td>\n",
       "      <td>0.021227</td>\n",
       "      <td>0.02081</td>\n",
       "      <td>0.020568</td>\n",
       "      <td>0.020348</td>\n",
       "      <td>0.019798</td>\n",
       "      <td>0.019732</td>\n",
       "      <td>0.018771</td>\n",
       "      <td>0.018769</td>\n",
       "      <td>0.017802</td>\n",
       "      <td>0.017451</td>\n",
       "      <td>0.017048</td>\n",
       "      <td>0.01693</td>\n",
       "      <td>0.016065</td>\n",
       "      <td>0.015959</td>\n",
       "      <td>0.015873</td>\n",
       "      <td>0.015845</td>\n",
       "      <td>0.015765</td>\n",
       "      <td>0.015581</td>\n",
       "      <td>0.014919</td>\n",
       "      <td>0.01361</td>\n",
       "      <td>0.01338</td>\n",
       "      <td>0.012732</td>\n",
       "      <td>0.012328</td>\n",
       "      <td>0.010466</td>\n",
       "      <td>0.010287</td>\n",
       "      <td>0.010199</td>\n",
       "      <td>0.009925</td>\n",
       "      <td>...</td>\n",
       "      <td>0.0</td>\n",
       "      <td>0.0</td>\n",
       "      <td>0.0</td>\n",
       "      <td>0.0</td>\n",
       "      <td>0.0</td>\n",
       "      <td>0.0</td>\n",
       "      <td>0.0</td>\n",
       "      <td>0.0</td>\n",
       "      <td>0.0</td>\n",
       "      <td>0.0</td>\n",
       "      <td>0.0</td>\n",
       "      <td>0.0</td>\n",
       "      <td>0.0</td>\n",
       "      <td>0.0</td>\n",
       "      <td>0.0</td>\n",
       "      <td>0.0</td>\n",
       "      <td>0.0</td>\n",
       "      <td>0.0</td>\n",
       "      <td>0.0</td>\n",
       "      <td>0.0</td>\n",
       "      <td>0.0</td>\n",
       "      <td>0.0</td>\n",
       "      <td>0.0</td>\n",
       "      <td>0.0</td>\n",
       "      <td>0.0</td>\n",
       "      <td>0.0</td>\n",
       "      <td>0.0</td>\n",
       "      <td>0.0</td>\n",
       "      <td>0.0</td>\n",
       "      <td>0.0</td>\n",
       "      <td>0.0</td>\n",
       "      <td>0.0</td>\n",
       "      <td>0.0</td>\n",
       "      <td>0.0</td>\n",
       "      <td>0.0</td>\n",
       "      <td>0.0</td>\n",
       "      <td>0.0</td>\n",
       "      <td>0.0</td>\n",
       "      <td>0.0</td>\n",
       "      <td>0.0</td>\n",
       "    </tr>\n",
       "  </tbody>\n",
       "</table>\n",
       "<p>1 rows × 398 columns</p>\n",
       "</div>"
      ],
      "text/plain": [
       "   schizophrenia  lewy - coerper - dementia  ...  aortendissektion  zinkmangel\n",
       "0       0.060789                   0.050473  ...               0.0         0.0\n",
       "\n",
       "[1 rows x 398 columns]"
      ]
     },
     "execution_count": 21,
     "metadata": {
      "tags": []
     },
     "output_type": "execute_result"
    }
   ],
   "source": [
    "c.sort_values(axis=1, by= 0, ascending= False)"
   ]
  },
  {
   "cell_type": "code",
   "execution_count": 0,
   "metadata": {
    "colab": {},
    "colab_type": "code",
    "id": "FGcGYYkJCyPQ"
   },
   "outputs": [],
   "source": []
  },
  {
   "cell_type": "code",
   "execution_count": 0,
   "metadata": {
    "colab": {
     "base_uri": "https://localhost:8080/",
     "height": 34
    },
    "colab_type": "code",
    "id": "3--sj-KNfJve",
    "outputId": "b03a946d-792b-42e9-b641-4c2c591c7bd8"
   },
   "outputs": [
    {
     "data": {
      "text/plain": [
       "array(['Tuberculosis'], dtype=object)"
      ]
     },
     "execution_count": 16,
     "metadata": {
      "tags": []
     },
     "output_type": "execute_result"
    }
   ],
   "source": [
    "search = ['Fever','Fatigue','Dyspnea','Coughing','Night sweats','Unintentional weight loss']\n",
    "\n",
    "sample = np.zeros((len(features),), dtype=np.int)\n",
    "\n",
    "for i,s in enumerate(search):\n",
    "  sample[Fea_Dict[s]] = 1\n",
    "\n",
    "sample_in = np.array(sample).reshape(1,len(sample))\n",
    "\n",
    "clf.predict(sample_in)"
   ]
  },
  {
   "cell_type": "code",
   "execution_count": 0,
   "metadata": {
    "colab": {},
    "colab_type": "code",
    "id": "YbniFKfFj4kO"
   },
   "outputs": [],
   "source": []
  },
  {
   "cell_type": "code",
   "execution_count": 0,
   "metadata": {
    "colab": {},
    "colab_type": "code",
    "id": "idJNfXhRC0fS"
   },
   "outputs": [],
   "source": [
    "c  = pd.DataFrame(clf.predict_proba(sample_in), columns=clf.classes_)"
   ]
  },
  {
   "cell_type": "code",
   "execution_count": 0,
   "metadata": {
    "colab": {
     "base_uri": "https://localhost:8080/",
     "height": 176
    },
    "colab_type": "code",
    "id": "B1LqCqHdC0fX",
    "outputId": "848e20cf-7737-4faf-bac2-9c7b5c4b3e2b"
   },
   "outputs": [
    {
     "data": {
      "text/html": [
       "<div>\n",
       "<style scoped>\n",
       "    .dataframe tbody tr th:only-of-type {\n",
       "        vertical-align: middle;\n",
       "    }\n",
       "\n",
       "    .dataframe tbody tr th {\n",
       "        vertical-align: top;\n",
       "    }\n",
       "\n",
       "    .dataframe thead th {\n",
       "        text-align: right;\n",
       "    }\n",
       "</style>\n",
       "<table border=\"1\" class=\"dataframe\">\n",
       "  <thead>\n",
       "    <tr style=\"text-align: right;\">\n",
       "      <th></th>\n",
       "      <th>Tuberculosis</th>\n",
       "      <th>acute and chronic sarcoidosis</th>\n",
       "      <th>upper respiratory infection</th>\n",
       "      <th>pneumocystis jirovecii - pneumonie</th>\n",
       "      <th>suicide attempt</th>\n",
       "      <th>Myocarditis</th>\n",
       "      <th>allergic alveolitis , exogenous</th>\n",
       "      <th>endocarditis</th>\n",
       "      <th>bronchopneumonie</th>\n",
       "      <th>Pulmonary embolism</th>\n",
       "      <th>pneumonia</th>\n",
       "      <th>hodgkin's morbus</th>\n",
       "      <th>Diphtheria</th>\n",
       "      <th>acute bronchitis</th>\n",
       "      <th>bronchitis</th>\n",
       "      <th>mikroangiopathie , thrombotische</th>\n",
       "      <th>Sarcoidosis</th>\n",
       "      <th>non-hodgkin - lymphoma</th>\n",
       "      <th>lymphatic diseases</th>\n",
       "      <th>systemic lupus erythematosus</th>\n",
       "      <th>nierenzellkarzinom</th>\n",
       "      <th>thrombocytopaenia</th>\n",
       "      <th>infection with bacillus anthracis</th>\n",
       "      <th>bronchiolitis</th>\n",
       "      <th>Alzheimer's disease</th>\n",
       "      <th>colorectal carcinoma</th>\n",
       "      <th>acute leukaemy</th>\n",
       "      <th>acquired immuno-deficiency syndrome</th>\n",
       "      <th>crohn's morbus</th>\n",
       "      <th>acute myeloid leukaemia</th>\n",
       "      <th>Scarlet</th>\n",
       "      <th>lymphoma</th>\n",
       "      <th>pneumonia aspiration</th>\n",
       "      <th>acute lymphatic leukaemia</th>\n",
       "      <th>pontiac - fever</th>\n",
       "      <th>malignant neuroleptic syndrome</th>\n",
       "      <th>chagas - disease</th>\n",
       "      <th>chronic lymphatic leukaemia</th>\n",
       "      <th>heerfordt - syndrome</th>\n",
       "      <th>hepatitis</th>\n",
       "      <th>...</th>\n",
       "      <th>coronary arteriosclerosis</th>\n",
       "      <th>cor pulmonary</th>\n",
       "      <th>confusion</th>\n",
       "      <th>commotio cerebri</th>\n",
       "      <th>colitis</th>\n",
       "      <th>clostridien - gastroenteritis</th>\n",
       "      <th>cirrhosis</th>\n",
       "      <th>chronic venoese insufficiency</th>\n",
       "      <th>chronic renal insufficiency</th>\n",
       "      <th>chronic pancreatitis</th>\n",
       "      <th>chronic obstructive pulmonary disease</th>\n",
       "      <th>chronic myeloid leukaemia</th>\n",
       "      <th>chronic gastritis</th>\n",
       "      <th>chronic constrictive pericarditis</th>\n",
       "      <th>chronic bronchitis</th>\n",
       "      <th>chronic alcoholic intoxication</th>\n",
       "      <th>decubitus ulcer</th>\n",
       "      <th>degenerative polyarthritis</th>\n",
       "      <th>epilepsy</th>\n",
       "      <th>deglutition disorder</th>\n",
       "      <th>encephalopathy , hepatic</th>\n",
       "      <th>encephalopathy</th>\n",
       "      <th>eiweissverlustsyndrom</th>\n",
       "      <th>effusion pericardial</th>\n",
       "      <th>ebstein - anomalies</th>\n",
       "      <th>down - syndrome</th>\n",
       "      <th>divertikulose</th>\n",
       "      <th>divertikulitis</th>\n",
       "      <th>dilatative cardiomyopathy</th>\n",
       "      <th>digitalisintoxikation</th>\n",
       "      <th>diabetic nephropathy</th>\n",
       "      <th>diabetes insipidus</th>\n",
       "      <th>diabetes</th>\n",
       "      <th>dermatomyositis</th>\n",
       "      <th>depression</th>\n",
       "      <th>dependence</th>\n",
       "      <th>dementia</th>\n",
       "      <th>delusion</th>\n",
       "      <th>delirium</th>\n",
       "      <th>zinkmangel</th>\n",
       "    </tr>\n",
       "  </thead>\n",
       "  <tbody>\n",
       "    <tr>\n",
       "      <th>0</th>\n",
       "      <td>0.10869</td>\n",
       "      <td>0.086101</td>\n",
       "      <td>0.080952</td>\n",
       "      <td>0.060625</td>\n",
       "      <td>0.058065</td>\n",
       "      <td>0.056458</td>\n",
       "      <td>0.042411</td>\n",
       "      <td>0.04128</td>\n",
       "      <td>0.037768</td>\n",
       "      <td>0.035446</td>\n",
       "      <td>0.031741</td>\n",
       "      <td>0.030521</td>\n",
       "      <td>0.029762</td>\n",
       "      <td>0.027292</td>\n",
       "      <td>0.023065</td>\n",
       "      <td>0.021144</td>\n",
       "      <td>0.020531</td>\n",
       "      <td>0.018765</td>\n",
       "      <td>0.018065</td>\n",
       "      <td>0.0175</td>\n",
       "      <td>0.016429</td>\n",
       "      <td>0.012426</td>\n",
       "      <td>0.011979</td>\n",
       "      <td>0.011161</td>\n",
       "      <td>0.011161</td>\n",
       "      <td>0.008869</td>\n",
       "      <td>0.00875</td>\n",
       "      <td>0.008705</td>\n",
       "      <td>0.008155</td>\n",
       "      <td>0.0075</td>\n",
       "      <td>0.007143</td>\n",
       "      <td>0.006786</td>\n",
       "      <td>0.005134</td>\n",
       "      <td>0.005</td>\n",
       "      <td>0.00496</td>\n",
       "      <td>0.003846</td>\n",
       "      <td>0.003348</td>\n",
       "      <td>0.003125</td>\n",
       "      <td>0.001923</td>\n",
       "      <td>0.001786</td>\n",
       "      <td>...</td>\n",
       "      <td>0.0</td>\n",
       "      <td>0.0</td>\n",
       "      <td>0.0</td>\n",
       "      <td>0.0</td>\n",
       "      <td>0.0</td>\n",
       "      <td>0.0</td>\n",
       "      <td>0.0</td>\n",
       "      <td>0.0</td>\n",
       "      <td>0.0</td>\n",
       "      <td>0.0</td>\n",
       "      <td>0.0</td>\n",
       "      <td>0.0</td>\n",
       "      <td>0.0</td>\n",
       "      <td>0.0</td>\n",
       "      <td>0.0</td>\n",
       "      <td>0.0</td>\n",
       "      <td>0.0</td>\n",
       "      <td>0.0</td>\n",
       "      <td>0.0</td>\n",
       "      <td>0.0</td>\n",
       "      <td>0.0</td>\n",
       "      <td>0.0</td>\n",
       "      <td>0.0</td>\n",
       "      <td>0.0</td>\n",
       "      <td>0.0</td>\n",
       "      <td>0.0</td>\n",
       "      <td>0.0</td>\n",
       "      <td>0.0</td>\n",
       "      <td>0.0</td>\n",
       "      <td>0.0</td>\n",
       "      <td>0.0</td>\n",
       "      <td>0.0</td>\n",
       "      <td>0.0</td>\n",
       "      <td>0.0</td>\n",
       "      <td>0.0</td>\n",
       "      <td>0.0</td>\n",
       "      <td>0.0</td>\n",
       "      <td>0.0</td>\n",
       "      <td>0.0</td>\n",
       "      <td>0.0</td>\n",
       "    </tr>\n",
       "  </tbody>\n",
       "</table>\n",
       "<p>1 rows × 398 columns</p>\n",
       "</div>"
      ],
      "text/plain": [
       "   Tuberculosis  acute and chronic sarcoidosis  ...  delirium  zinkmangel\n",
       "0       0.10869                       0.086101  ...       0.0         0.0\n",
       "\n",
       "[1 rows x 398 columns]"
      ]
     },
     "execution_count": 24,
     "metadata": {
      "tags": []
     },
     "output_type": "execute_result"
    }
   ],
   "source": [
    "c.sort_values(axis=1, by= 0, ascending= False)"
   ]
  },
  {
   "cell_type": "code",
   "execution_count": 0,
   "metadata": {
    "colab": {},
    "colab_type": "code",
    "id": "5JFXuQspCzrL"
   },
   "outputs": [],
   "source": []
  },
  {
   "cell_type": "code",
   "execution_count": 0,
   "metadata": {
    "colab": {
     "base_uri": "https://localhost:8080/",
     "height": 34
    },
    "colab_type": "code",
    "id": "V_lZuy4wj4Qe",
    "outputId": "531792e9-604c-4ab3-e6c3-9c6e103f1111"
   },
   "outputs": [
    {
     "data": {
      "text/plain": [
       "array(['liver failure , acute'], dtype=object)"
      ]
     },
     "execution_count": 17,
     "metadata": {
      "tags": []
     },
     "output_type": "execute_result"
    }
   ],
   "source": [
    "search = ['Disturbances in consciousness NEC','Hypotension']\n",
    "\n",
    "sample = np.zeros((len(features),), dtype=np.int)\n",
    "\n",
    "for i,s in enumerate(search):\n",
    "  sample[Fea_Dict[s]] = 1\n",
    "\n",
    "sample_in = np.array(sample).reshape(1,len(sample))\n",
    "\n",
    "clf.predict(sample_in)"
   ]
  },
  {
   "cell_type": "code",
   "execution_count": 0,
   "metadata": {
    "colab": {},
    "colab_type": "code",
    "id": "EglfALVA-FBO"
   },
   "outputs": [],
   "source": []
  },
  {
   "cell_type": "code",
   "execution_count": 0,
   "metadata": {
    "colab": {},
    "colab_type": "code",
    "id": "jhKSZBLqC2fc"
   },
   "outputs": [],
   "source": [
    "c  = pd.DataFrame(clf.predict_proba(sample_in), columns=clf.classes_)"
   ]
  },
  {
   "cell_type": "code",
   "execution_count": 0,
   "metadata": {
    "colab": {
     "base_uri": "https://localhost:8080/",
     "height": 176
    },
    "colab_type": "code",
    "id": "s1I6e9b8C2fi",
    "outputId": "fcbb589e-5b17-4905-9ee1-4e6088094433"
   },
   "outputs": [
    {
     "data": {
      "text/html": [
       "<div>\n",
       "<style scoped>\n",
       "    .dataframe tbody tr th:only-of-type {\n",
       "        vertical-align: middle;\n",
       "    }\n",
       "\n",
       "    .dataframe tbody tr th {\n",
       "        vertical-align: top;\n",
       "    }\n",
       "\n",
       "    .dataframe thead th {\n",
       "        text-align: right;\n",
       "    }\n",
       "</style>\n",
       "<table border=\"1\" class=\"dataframe\">\n",
       "  <thead>\n",
       "    <tr style=\"text-align: right;\">\n",
       "      <th></th>\n",
       "      <th>liver failure , acute</th>\n",
       "      <th>subarachnoid haemorrhage</th>\n",
       "      <th>orthostasesyndrom</th>\n",
       "      <th>herzbeuteltamponade</th>\n",
       "      <th>av knot - reentry - tachycardia</th>\n",
       "      <th>wernicke - encephalopathy</th>\n",
       "      <th>overload fluid</th>\n",
       "      <th>failure kidney</th>\n",
       "      <th>fazialisparesis</th>\n",
       "      <th>schilddruesen-related orbitopathy</th>\n",
       "      <th>herpes zoster dermatitis</th>\n",
       "      <th>pleuraerguss</th>\n",
       "      <th>hepatitis , alcoholic</th>\n",
       "      <th>glucose phosphatase deficiency 06</th>\n",
       "      <th>roeteln</th>\n",
       "      <th>gilbert syndrome</th>\n",
       "      <th>late skin porphyria</th>\n",
       "      <th>clostridien - gastroenteritis</th>\n",
       "      <th>Ascites</th>\n",
       "      <th>acrodermatitis enteropathica</th>\n",
       "      <th>psoriasis</th>\n",
       "      <th>guillain - barre - syndrome</th>\n",
       "      <th>williams - beuren - syndrom</th>\n",
       "      <th>lewy - coerper - dementia</th>\n",
       "      <th>katatonie</th>\n",
       "      <th>chronic bronchitis</th>\n",
       "      <th>diabetic nephropathy</th>\n",
       "      <th>aphasia</th>\n",
       "      <th>renalosteopathiesyndrom</th>\n",
       "      <th>harnverhaltung</th>\n",
       "      <th>broca - aphasia</th>\n",
       "      <th>retinal abloesung</th>\n",
       "      <th>diabetes insipidus</th>\n",
       "      <th>childish zerebralparese</th>\n",
       "      <th>Lead poisoning</th>\n",
       "      <th>kidney failure acute</th>\n",
       "      <th>hydrops fetalis</th>\n",
       "      <th>Cataract</th>\n",
       "      <th>vitamin - a-mangel</th>\n",
       "      <th>hypothyroidism</th>\n",
       "      <th>...</th>\n",
       "      <th>delirium</th>\n",
       "      <th>deep vein thrombosis</th>\n",
       "      <th>decubitus ulcer</th>\n",
       "      <th>cushing - syndrome</th>\n",
       "      <th>cushing - disease</th>\n",
       "      <th>crohn's morbus</th>\n",
       "      <th>coronary arteriosclerosis</th>\n",
       "      <th>cor pulmonary</th>\n",
       "      <th>confusion</th>\n",
       "      <th>colorectal carcinoma</th>\n",
       "      <th>colitis</th>\n",
       "      <th>cirrhosis</th>\n",
       "      <th>chronic venoese insufficiency</th>\n",
       "      <th>chronic renal insufficiency</th>\n",
       "      <th>chronic pancreatitis</th>\n",
       "      <th>chronic obstructive pulmonary disease</th>\n",
       "      <th>chronic myeloid leukaemia</th>\n",
       "      <th>chronic lymphatic leukaemia</th>\n",
       "      <th>degenerative polyarthritis</th>\n",
       "      <th>dementia</th>\n",
       "      <th>failure heart congestive</th>\n",
       "      <th>dependence</th>\n",
       "      <th>fabry - syndrome</th>\n",
       "      <th>exsikkose</th>\n",
       "      <th>exanthema</th>\n",
       "      <th>essential thrombozythamea</th>\n",
       "      <th>epilepsy</th>\n",
       "      <th>endocarditis</th>\n",
       "      <th>encephalopathy , hepatic</th>\n",
       "      <th>eiweissverlustsyndrom</th>\n",
       "      <th>effusion pericardial</th>\n",
       "      <th>ebstein - anomalies</th>\n",
       "      <th>divertikulose</th>\n",
       "      <th>divertikulitis</th>\n",
       "      <th>dilatative cardiomyopathy</th>\n",
       "      <th>digitalisintoxikation</th>\n",
       "      <th>diabetes</th>\n",
       "      <th>dermatomyositis</th>\n",
       "      <th>depression</th>\n",
       "      <th>zinkmangel</th>\n",
       "    </tr>\n",
       "  </thead>\n",
       "  <tbody>\n",
       "    <tr>\n",
       "      <th>0</th>\n",
       "      <td>0.092635</td>\n",
       "      <td>0.073907</td>\n",
       "      <td>0.06042</td>\n",
       "      <td>0.055476</td>\n",
       "      <td>0.046645</td>\n",
       "      <td>0.044077</td>\n",
       "      <td>0.040826</td>\n",
       "      <td>0.026756</td>\n",
       "      <td>0.016648</td>\n",
       "      <td>0.016361</td>\n",
       "      <td>0.015805</td>\n",
       "      <td>0.015608</td>\n",
       "      <td>0.015362</td>\n",
       "      <td>0.015262</td>\n",
       "      <td>0.014756</td>\n",
       "      <td>0.014724</td>\n",
       "      <td>0.014339</td>\n",
       "      <td>0.013923</td>\n",
       "      <td>0.013866</td>\n",
       "      <td>0.013694</td>\n",
       "      <td>0.013176</td>\n",
       "      <td>0.012905</td>\n",
       "      <td>0.012741</td>\n",
       "      <td>0.012286</td>\n",
       "      <td>0.01228</td>\n",
       "      <td>0.012254</td>\n",
       "      <td>0.012157</td>\n",
       "      <td>0.010818</td>\n",
       "      <td>0.010426</td>\n",
       "      <td>0.010126</td>\n",
       "      <td>0.010039</td>\n",
       "      <td>0.009584</td>\n",
       "      <td>0.009584</td>\n",
       "      <td>0.009556</td>\n",
       "      <td>0.009501</td>\n",
       "      <td>0.009286</td>\n",
       "      <td>0.009182</td>\n",
       "      <td>0.008984</td>\n",
       "      <td>0.008195</td>\n",
       "      <td>0.008125</td>\n",
       "      <td>...</td>\n",
       "      <td>0.0</td>\n",
       "      <td>0.0</td>\n",
       "      <td>0.0</td>\n",
       "      <td>0.0</td>\n",
       "      <td>0.0</td>\n",
       "      <td>0.0</td>\n",
       "      <td>0.0</td>\n",
       "      <td>0.0</td>\n",
       "      <td>0.0</td>\n",
       "      <td>0.0</td>\n",
       "      <td>0.0</td>\n",
       "      <td>0.0</td>\n",
       "      <td>0.0</td>\n",
       "      <td>0.0</td>\n",
       "      <td>0.0</td>\n",
       "      <td>0.0</td>\n",
       "      <td>0.0</td>\n",
       "      <td>0.0</td>\n",
       "      <td>0.0</td>\n",
       "      <td>0.0</td>\n",
       "      <td>0.0</td>\n",
       "      <td>0.0</td>\n",
       "      <td>0.0</td>\n",
       "      <td>0.0</td>\n",
       "      <td>0.0</td>\n",
       "      <td>0.0</td>\n",
       "      <td>0.0</td>\n",
       "      <td>0.0</td>\n",
       "      <td>0.0</td>\n",
       "      <td>0.0</td>\n",
       "      <td>0.0</td>\n",
       "      <td>0.0</td>\n",
       "      <td>0.0</td>\n",
       "      <td>0.0</td>\n",
       "      <td>0.0</td>\n",
       "      <td>0.0</td>\n",
       "      <td>0.0</td>\n",
       "      <td>0.0</td>\n",
       "      <td>0.0</td>\n",
       "      <td>0.0</td>\n",
       "    </tr>\n",
       "  </tbody>\n",
       "</table>\n",
       "<p>1 rows × 398 columns</p>\n",
       "</div>"
      ],
      "text/plain": [
       "   liver failure , acute  subarachnoid haemorrhage  ...  depression  zinkmangel\n",
       "0               0.092635                  0.073907  ...         0.0         0.0\n",
       "\n",
       "[1 rows x 398 columns]"
      ]
     },
     "execution_count": 27,
     "metadata": {
      "tags": []
     },
     "output_type": "execute_result"
    }
   ],
   "source": [
    "c.sort_values(axis=1, by= 0, ascending= False)"
   ]
  },
  {
   "cell_type": "code",
   "execution_count": 0,
   "metadata": {
    "colab": {},
    "colab_type": "code",
    "id": "-wYRUcbzC16b"
   },
   "outputs": [],
   "source": []
  },
  {
   "cell_type": "code",
   "execution_count": 0,
   "metadata": {
    "colab": {
     "base_uri": "https://localhost:8080/",
     "height": 34
    },
    "colab_type": "code",
    "id": "AxRH_9So-G8p",
    "outputId": "f22a974f-e8b2-41f1-cf29-b68ea9c4751d"
   },
   "outputs": [
    {
     "data": {
      "text/plain": [
       "array(['pneumonia'], dtype=object)"
      ]
     },
     "execution_count": 18,
     "metadata": {
      "tags": []
     },
     "output_type": "execute_result"
    }
   ],
   "source": [
    "search = ['Chills','Coughing','Dry cough','Fever','Night sweats','shortness of breath','Tachypnea']\n",
    "\n",
    "sample = np.zeros((len(features),), dtype=np.int)\n",
    "\n",
    "for i,s in enumerate(search):\n",
    "  sample[Fea_Dict[s]] = 1\n",
    "\n",
    "sample_in = np.array(sample).reshape(1,len(sample))\n",
    "\n",
    "clf.predict(sample_in)"
   ]
  },
  {
   "cell_type": "code",
   "execution_count": 0,
   "metadata": {
    "colab": {},
    "colab_type": "code",
    "id": "AHtWI_M5j4Op"
   },
   "outputs": [],
   "source": []
  },
  {
   "cell_type": "code",
   "execution_count": 0,
   "metadata": {
    "colab": {},
    "colab_type": "code",
    "id": "-MNEh_qBC4gW"
   },
   "outputs": [],
   "source": [
    "c  = pd.DataFrame(clf.predict_proba(sample_in), columns=clf.classes_)"
   ]
  },
  {
   "cell_type": "code",
   "execution_count": 0,
   "metadata": {
    "colab": {
     "base_uri": "https://localhost:8080/",
     "height": 176
    },
    "colab_type": "code",
    "id": "aSmKyr9aC4gc",
    "outputId": "cc87dd02-8b5e-4235-85fc-c1127fdd6e3c"
   },
   "outputs": [
    {
     "data": {
      "text/html": [
       "<div>\n",
       "<style scoped>\n",
       "    .dataframe tbody tr th:only-of-type {\n",
       "        vertical-align: middle;\n",
       "    }\n",
       "\n",
       "    .dataframe tbody tr th {\n",
       "        vertical-align: top;\n",
       "    }\n",
       "\n",
       "    .dataframe thead th {\n",
       "        text-align: right;\n",
       "    }\n",
       "</style>\n",
       "<table border=\"1\" class=\"dataframe\">\n",
       "  <thead>\n",
       "    <tr style=\"text-align: right;\">\n",
       "      <th></th>\n",
       "      <th>pneumonia</th>\n",
       "      <th>bronchitis</th>\n",
       "      <th>infection with bacillus anthracis</th>\n",
       "      <th>acquired immuno-deficiency syndrome</th>\n",
       "      <th>bronchiolitis</th>\n",
       "      <th>infection</th>\n",
       "      <th>Sarcoidosis</th>\n",
       "      <th>endocarditis</th>\n",
       "      <th>bronchopneumonie</th>\n",
       "      <th>pneumocystis jirovecii - pneumonie</th>\n",
       "      <th>ornithose</th>\n",
       "      <th>Diphtheria</th>\n",
       "      <th>Pulmonary embolism</th>\n",
       "      <th>influenza</th>\n",
       "      <th>allergic alveolitis , exogenous</th>\n",
       "      <th>upper respiratory infection</th>\n",
       "      <th>cellulitis</th>\n",
       "      <th>Alzheimer's disease</th>\n",
       "      <th>Tuberculosis</th>\n",
       "      <th>septicemia</th>\n",
       "      <th>pneumonia durch legionella</th>\n",
       "      <th>lung fibrosis</th>\n",
       "      <th>pneumonia aspiration</th>\n",
       "      <th>hepatitis</th>\n",
       "      <th>lymphatic diseases</th>\n",
       "      <th>pontiac - fever</th>\n",
       "      <th>urosepsis</th>\n",
       "      <th>thrombocytopaenia</th>\n",
       "      <th>lymphangitis</th>\n",
       "      <th>bacteremia</th>\n",
       "      <th>colitis</th>\n",
       "      <th>dementia</th>\n",
       "      <th>Myocarditis</th>\n",
       "      <th>granulomatosis with polyangiitis</th>\n",
       "      <th>hodgkin's morbus</th>\n",
       "      <th>suicide attempt</th>\n",
       "      <th>migraene</th>\n",
       "      <th>morbus meniere</th>\n",
       "      <th>morbus behcet</th>\n",
       "      <th>mitralklappenstenose</th>\n",
       "      <th>...</th>\n",
       "      <th>clostridien - gastroenteritis</th>\n",
       "      <th>cirrhosis</th>\n",
       "      <th>chronic venoese insufficiency</th>\n",
       "      <th>chronic renal insufficiency</th>\n",
       "      <th>chronic pancreatitis</th>\n",
       "      <th>chronic myeloid leukaemia</th>\n",
       "      <th>effusion pericardial</th>\n",
       "      <th>chronic lymphatic leukaemia</th>\n",
       "      <th>chronic gastritis</th>\n",
       "      <th>chronic constrictive pericarditis</th>\n",
       "      <th>chronic bronchitis</th>\n",
       "      <th>chronic alcoholic intoxication</th>\n",
       "      <th>cholesteatom</th>\n",
       "      <th>cholelithiasis</th>\n",
       "      <th>cholecystitis</th>\n",
       "      <th>cholangitis</th>\n",
       "      <th>coronary arteriosclerosis</th>\n",
       "      <th>coronary heart disease</th>\n",
       "      <th>crohn's morbus</th>\n",
       "      <th>cushing - disease</th>\n",
       "      <th>ebstein - anomalies</th>\n",
       "      <th>down - syndrome</th>\n",
       "      <th>divertikulose</th>\n",
       "      <th>divertikulitis</th>\n",
       "      <th>dilatative cardiomyopathy</th>\n",
       "      <th>digitalisintoxikation</th>\n",
       "      <th>diabetic nephropathy</th>\n",
       "      <th>diabetes insipidus</th>\n",
       "      <th>diabetes</th>\n",
       "      <th>dermatomyositis</th>\n",
       "      <th>depression</th>\n",
       "      <th>dependence</th>\n",
       "      <th>delusion</th>\n",
       "      <th>delirium</th>\n",
       "      <th>deglutition disorder</th>\n",
       "      <th>degenerative polyarthritis</th>\n",
       "      <th>deep vein thrombosis</th>\n",
       "      <th>decubitus ulcer</th>\n",
       "      <th>cushing - syndrome</th>\n",
       "      <th>zinkmangel</th>\n",
       "    </tr>\n",
       "  </thead>\n",
       "  <tbody>\n",
       "    <tr>\n",
       "      <th>0</th>\n",
       "      <td>0.103487</td>\n",
       "      <td>0.09875</td>\n",
       "      <td>0.097312</td>\n",
       "      <td>0.092991</td>\n",
       "      <td>0.066329</td>\n",
       "      <td>0.058249</td>\n",
       "      <td>0.049187</td>\n",
       "      <td>0.042222</td>\n",
       "      <td>0.040089</td>\n",
       "      <td>0.03811</td>\n",
       "      <td>0.030432</td>\n",
       "      <td>0.029792</td>\n",
       "      <td>0.028571</td>\n",
       "      <td>0.025412</td>\n",
       "      <td>0.021979</td>\n",
       "      <td>0.019554</td>\n",
       "      <td>0.017857</td>\n",
       "      <td>0.017684</td>\n",
       "      <td>0.015997</td>\n",
       "      <td>0.015476</td>\n",
       "      <td>0.014732</td>\n",
       "      <td>0.01125</td>\n",
       "      <td>0.007292</td>\n",
       "      <td>0.007083</td>\n",
       "      <td>0.006696</td>\n",
       "      <td>0.005952</td>\n",
       "      <td>0.005655</td>\n",
       "      <td>0.005</td>\n",
       "      <td>0.004167</td>\n",
       "      <td>0.003571</td>\n",
       "      <td>0.003571</td>\n",
       "      <td>0.003175</td>\n",
       "      <td>0.003175</td>\n",
       "      <td>0.003125</td>\n",
       "      <td>0.003125</td>\n",
       "      <td>0.002951</td>\n",
       "      <td>0.0</td>\n",
       "      <td>0.0</td>\n",
       "      <td>0.0</td>\n",
       "      <td>0.0</td>\n",
       "      <td>...</td>\n",
       "      <td>0.0</td>\n",
       "      <td>0.0</td>\n",
       "      <td>0.0</td>\n",
       "      <td>0.0</td>\n",
       "      <td>0.0</td>\n",
       "      <td>0.0</td>\n",
       "      <td>0.0</td>\n",
       "      <td>0.0</td>\n",
       "      <td>0.0</td>\n",
       "      <td>0.0</td>\n",
       "      <td>0.0</td>\n",
       "      <td>0.0</td>\n",
       "      <td>0.0</td>\n",
       "      <td>0.0</td>\n",
       "      <td>0.0</td>\n",
       "      <td>0.0</td>\n",
       "      <td>0.0</td>\n",
       "      <td>0.0</td>\n",
       "      <td>0.0</td>\n",
       "      <td>0.0</td>\n",
       "      <td>0.0</td>\n",
       "      <td>0.0</td>\n",
       "      <td>0.0</td>\n",
       "      <td>0.0</td>\n",
       "      <td>0.0</td>\n",
       "      <td>0.0</td>\n",
       "      <td>0.0</td>\n",
       "      <td>0.0</td>\n",
       "      <td>0.0</td>\n",
       "      <td>0.0</td>\n",
       "      <td>0.0</td>\n",
       "      <td>0.0</td>\n",
       "      <td>0.0</td>\n",
       "      <td>0.0</td>\n",
       "      <td>0.0</td>\n",
       "      <td>0.0</td>\n",
       "      <td>0.0</td>\n",
       "      <td>0.0</td>\n",
       "      <td>0.0</td>\n",
       "      <td>0.0</td>\n",
       "    </tr>\n",
       "  </tbody>\n",
       "</table>\n",
       "<p>1 rows × 398 columns</p>\n",
       "</div>"
      ],
      "text/plain": [
       "   pneumonia  bronchitis  ...  cushing - syndrome  zinkmangel\n",
       "0   0.103487     0.09875  ...                 0.0         0.0\n",
       "\n",
       "[1 rows x 398 columns]"
      ]
     },
     "execution_count": 30,
     "metadata": {
      "tags": []
     },
     "output_type": "execute_result"
    }
   ],
   "source": [
    "c.sort_values(axis=1, by= 0, ascending= False)"
   ]
  },
  {
   "cell_type": "code",
   "execution_count": 0,
   "metadata": {
    "colab": {},
    "colab_type": "code",
    "id": "lYR5Pa8zC31a"
   },
   "outputs": [],
   "source": []
  },
  {
   "cell_type": "code",
   "execution_count": 0,
   "metadata": {
    "colab": {},
    "colab_type": "code",
    "id": "-GfP6hXL568_"
   },
   "outputs": [],
   "source": [
    "y = clf.predict(sample_in)"
   ]
  },
  {
   "cell_type": "code",
   "execution_count": 0,
   "metadata": {
    "colab": {
     "base_uri": "https://localhost:8080/",
     "height": 34
    },
    "colab_type": "code",
    "id": "u6bZLJEEFl9g",
    "outputId": "1071071d-d9a3-4a5f-b277-9e9cc02645fd"
   },
   "outputs": [
    {
     "data": {
      "text/plain": [
       "array(['Tuberculosis'], dtype=object)"
      ]
     },
     "execution_count": 169,
     "metadata": {
      "tags": []
     },
     "output_type": "execute_result"
    }
   ],
   "source": [
    "y"
   ]
  },
  {
   "cell_type": "code",
   "execution_count": 0,
   "metadata": {
    "colab": {},
    "colab_type": "code",
    "id": "ZE1lTxR9Fo4O"
   },
   "outputs": [],
   "source": [
    "df = pd.read_csv('/content/disease-symptom-merged.csv')"
   ]
  },
  {
   "cell_type": "code",
   "execution_count": 0,
   "metadata": {
    "colab": {
     "base_uri": "https://localhost:8080/",
     "height": 195
    },
    "colab_type": "code",
    "id": "otlLN59bGPX_",
    "outputId": "767dc766-f174-42b8-b9b2-8b6156215cd7"
   },
   "outputs": [
    {
     "data": {
      "text/html": [
       "<div>\n",
       "<style scoped>\n",
       "    .dataframe tbody tr th:only-of-type {\n",
       "        vertical-align: middle;\n",
       "    }\n",
       "\n",
       "    .dataframe tbody tr th {\n",
       "        vertical-align: top;\n",
       "    }\n",
       "\n",
       "    .dataframe thead th {\n",
       "        text-align: right;\n",
       "    }\n",
       "</style>\n",
       "<table border=\"1\" class=\"dataframe\">\n",
       "  <thead>\n",
       "    <tr style=\"text-align: right;\">\n",
       "      <th></th>\n",
       "      <th>Disease_name</th>\n",
       "      <th>Symptom_name</th>\n",
       "    </tr>\n",
       "  </thead>\n",
       "  <tbody>\n",
       "    <tr>\n",
       "      <th>0</th>\n",
       "      <td>porphyria , acute intermittent</td>\n",
       "      <td>Sinus Tachycardia</td>\n",
       "    </tr>\n",
       "    <tr>\n",
       "      <th>1</th>\n",
       "      <td>porphyria , acute intermittent</td>\n",
       "      <td>Abdominal Pain</td>\n",
       "    </tr>\n",
       "    <tr>\n",
       "      <th>2</th>\n",
       "      <td>porphyria , acute intermittent</td>\n",
       "      <td>Adynamia</td>\n",
       "    </tr>\n",
       "    <tr>\n",
       "      <th>3</th>\n",
       "      <td>porphyria , acute intermittent</td>\n",
       "      <td>Paresthesia</td>\n",
       "    </tr>\n",
       "    <tr>\n",
       "      <th>4</th>\n",
       "      <td>porphyria , acute intermittent</td>\n",
       "      <td>Paresis</td>\n",
       "    </tr>\n",
       "  </tbody>\n",
       "</table>\n",
       "</div>"
      ],
      "text/plain": [
       "                     Disease_name       Symptom_name\n",
       "0  porphyria , acute intermittent  Sinus Tachycardia\n",
       "1  porphyria , acute intermittent     Abdominal Pain\n",
       "2  porphyria , acute intermittent           Adynamia\n",
       "3  porphyria , acute intermittent        Paresthesia\n",
       "4  porphyria , acute intermittent            Paresis"
      ]
     },
     "execution_count": 28,
     "metadata": {
      "tags": []
     },
     "output_type": "execute_result"
    }
   ],
   "source": [
    "df.head()"
   ]
  },
  {
   "cell_type": "code",
   "execution_count": 0,
   "metadata": {
    "colab": {},
    "colab_type": "code",
    "id": "Om2DtDXvGVIr"
   },
   "outputs": [],
   "source": [
    "df = df[['Disease_name','Symptom_name']]"
   ]
  },
  {
   "cell_type": "code",
   "execution_count": 0,
   "metadata": {
    "colab": {},
    "colab_type": "code",
    "id": "AB4Fp7VyGeSW"
   },
   "outputs": [],
   "source": [
    "df_1 = pd.get_dummies(df.Symptom_name)\n",
    "df_s = df.Disease_name"
   ]
  },
  {
   "cell_type": "code",
   "execution_count": 0,
   "metadata": {
    "colab": {},
    "colab_type": "code",
    "id": "9m7N6NEpG6CY"
   },
   "outputs": [],
   "source": [
    "data = pd.concat([df_s,df_1],axis=1)"
   ]
  },
  {
   "cell_type": "code",
   "execution_count": 0,
   "metadata": {
    "colab": {},
    "colab_type": "code",
    "id": "K0CFNJxEHXHk"
   },
   "outputs": [],
   "source": [
    "data.drop_duplicates(keep='first',inplace=True)"
   ]
  },
  {
   "cell_type": "code",
   "execution_count": 0,
   "metadata": {
    "colab": {
     "base_uri": "https://localhost:8080/",
     "height": 462
    },
    "colab_type": "code",
    "id": "SCRL90-JHYYz",
    "outputId": "60c71425-0d64-467f-fa0f-ab70533637e4"
   },
   "outputs": [
    {
     "data": {
      "text/html": [
       "<div>\n",
       "<style scoped>\n",
       "    .dataframe tbody tr th:only-of-type {\n",
       "        vertical-align: middle;\n",
       "    }\n",
       "\n",
       "    .dataframe tbody tr th {\n",
       "        vertical-align: top;\n",
       "    }\n",
       "\n",
       "    .dataframe thead th {\n",
       "        text-align: right;\n",
       "    }\n",
       "</style>\n",
       "<table border=\"1\" class=\"dataframe\">\n",
       "  <thead>\n",
       "    <tr style=\"text-align: right;\">\n",
       "      <th></th>\n",
       "      <th>Disease_name</th>\n",
       "      <th>Abdomen, Acute</th>\n",
       "      <th>Abdominal Pain</th>\n",
       "      <th>Abdominal bloating</th>\n",
       "      <th>Abdominal colic</th>\n",
       "      <th>Abducens Nerve Diseases</th>\n",
       "      <th>Abnormal bowel sounds</th>\n",
       "      <th>Abnormal breathing</th>\n",
       "      <th>Abnormal heart beat</th>\n",
       "      <th>Abnormal sputum</th>\n",
       "      <th>Abortion, Habitual</th>\n",
       "      <th>Acidosis</th>\n",
       "      <th>Acidosis, Respiratory</th>\n",
       "      <th>Acquired kyphosis</th>\n",
       "      <th>Acrocyanosis</th>\n",
       "      <th>Acrodermatitis enteropathica</th>\n",
       "      <th>Action Tremor</th>\n",
       "      <th>Acute dyspnea</th>\n",
       "      <th>Acute rotatory vertigo</th>\n",
       "      <th>Adynamia</th>\n",
       "      <th>Affective ambivalence</th>\n",
       "      <th>Agitation</th>\n",
       "      <th>Agranulocytosis</th>\n",
       "      <th>Airway Obstruction</th>\n",
       "      <th>Akathisia</th>\n",
       "      <th>Albuminuria</th>\n",
       "      <th>Alkalosis, Respiratory</th>\n",
       "      <th>Alopecia</th>\n",
       "      <th>Alopecia effluvium</th>\n",
       "      <th>Alveolitis</th>\n",
       "      <th>Amaurosis</th>\n",
       "      <th>Amaurosis Fugax</th>\n",
       "      <th>Amblyopia</th>\n",
       "      <th>Amenorrhea</th>\n",
       "      <th>Amnesia</th>\n",
       "      <th>Amyloidosis</th>\n",
       "      <th>Anal Fissure</th>\n",
       "      <th>Anal abscess</th>\n",
       "      <th>Anemia</th>\n",
       "      <th>Anemia due to blood loss</th>\n",
       "      <th>...</th>\n",
       "      <th>stinging sensation</th>\n",
       "      <th>stool color yellow</th>\n",
       "      <th>stuffy nose</th>\n",
       "      <th>suicidal</th>\n",
       "      <th>superimposition</th>\n",
       "      <th>swelling of hands (finding)</th>\n",
       "      <th>symptom aggravating factors</th>\n",
       "      <th>systolic ejection murmur</th>\n",
       "      <th>systolic murmur</th>\n",
       "      <th>t wave inverted</th>\n",
       "      <th>tenesmus</th>\n",
       "      <th>terrify</th>\n",
       "      <th>thicken</th>\n",
       "      <th>throbbing sensation quality</th>\n",
       "      <th>titubation</th>\n",
       "      <th>todd paralysis</th>\n",
       "      <th>tonic seizures</th>\n",
       "      <th>transaminitis</th>\n",
       "      <th>transsexual</th>\n",
       "      <th>tremor resting</th>\n",
       "      <th>tumor cell invasion</th>\n",
       "      <th>unable to concentrate</th>\n",
       "      <th>uncoordination</th>\n",
       "      <th>underweight</th>\n",
       "      <th>unhappy</th>\n",
       "      <th>unresponsiveness</th>\n",
       "      <th>unsteady gait</th>\n",
       "      <th>unwell</th>\n",
       "      <th>urge incontinence</th>\n",
       "      <th>urinary hesitation</th>\n",
       "      <th>urinoma</th>\n",
       "      <th>verbal auditory hallucinations</th>\n",
       "      <th>verbally abusive behavior</th>\n",
       "      <th>vision blurred</th>\n",
       "      <th>weepiness</th>\n",
       "      <th>welt</th>\n",
       "      <th>wheelchair bound</th>\n",
       "      <th>withdraw</th>\n",
       "      <th>worry</th>\n",
       "      <th>yellow sputum</th>\n",
       "    </tr>\n",
       "  </thead>\n",
       "  <tbody>\n",
       "    <tr>\n",
       "      <th>0</th>\n",
       "      <td>porphyria , acute intermittent</td>\n",
       "      <td>0</td>\n",
       "      <td>0</td>\n",
       "      <td>0</td>\n",
       "      <td>0</td>\n",
       "      <td>0</td>\n",
       "      <td>0</td>\n",
       "      <td>0</td>\n",
       "      <td>0</td>\n",
       "      <td>0</td>\n",
       "      <td>0</td>\n",
       "      <td>0</td>\n",
       "      <td>0</td>\n",
       "      <td>0</td>\n",
       "      <td>0</td>\n",
       "      <td>0</td>\n",
       "      <td>0</td>\n",
       "      <td>0</td>\n",
       "      <td>0</td>\n",
       "      <td>0</td>\n",
       "      <td>0</td>\n",
       "      <td>0</td>\n",
       "      <td>0</td>\n",
       "      <td>0</td>\n",
       "      <td>0</td>\n",
       "      <td>0</td>\n",
       "      <td>0</td>\n",
       "      <td>0</td>\n",
       "      <td>0</td>\n",
       "      <td>0</td>\n",
       "      <td>0</td>\n",
       "      <td>0</td>\n",
       "      <td>0</td>\n",
       "      <td>0</td>\n",
       "      <td>0</td>\n",
       "      <td>0</td>\n",
       "      <td>0</td>\n",
       "      <td>0</td>\n",
       "      <td>0</td>\n",
       "      <td>0</td>\n",
       "      <td>...</td>\n",
       "      <td>0</td>\n",
       "      <td>0</td>\n",
       "      <td>0</td>\n",
       "      <td>0</td>\n",
       "      <td>0</td>\n",
       "      <td>0</td>\n",
       "      <td>0</td>\n",
       "      <td>0</td>\n",
       "      <td>0</td>\n",
       "      <td>0</td>\n",
       "      <td>0</td>\n",
       "      <td>0</td>\n",
       "      <td>0</td>\n",
       "      <td>0</td>\n",
       "      <td>0</td>\n",
       "      <td>0</td>\n",
       "      <td>0</td>\n",
       "      <td>0</td>\n",
       "      <td>0</td>\n",
       "      <td>0</td>\n",
       "      <td>0</td>\n",
       "      <td>0</td>\n",
       "      <td>0</td>\n",
       "      <td>0</td>\n",
       "      <td>0</td>\n",
       "      <td>0</td>\n",
       "      <td>0</td>\n",
       "      <td>0</td>\n",
       "      <td>0</td>\n",
       "      <td>0</td>\n",
       "      <td>0</td>\n",
       "      <td>0</td>\n",
       "      <td>0</td>\n",
       "      <td>0</td>\n",
       "      <td>0</td>\n",
       "      <td>0</td>\n",
       "      <td>0</td>\n",
       "      <td>0</td>\n",
       "      <td>0</td>\n",
       "      <td>0</td>\n",
       "    </tr>\n",
       "    <tr>\n",
       "      <th>1</th>\n",
       "      <td>porphyria , acute intermittent</td>\n",
       "      <td>0</td>\n",
       "      <td>1</td>\n",
       "      <td>0</td>\n",
       "      <td>0</td>\n",
       "      <td>0</td>\n",
       "      <td>0</td>\n",
       "      <td>0</td>\n",
       "      <td>0</td>\n",
       "      <td>0</td>\n",
       "      <td>0</td>\n",
       "      <td>0</td>\n",
       "      <td>0</td>\n",
       "      <td>0</td>\n",
       "      <td>0</td>\n",
       "      <td>0</td>\n",
       "      <td>0</td>\n",
       "      <td>0</td>\n",
       "      <td>0</td>\n",
       "      <td>0</td>\n",
       "      <td>0</td>\n",
       "      <td>0</td>\n",
       "      <td>0</td>\n",
       "      <td>0</td>\n",
       "      <td>0</td>\n",
       "      <td>0</td>\n",
       "      <td>0</td>\n",
       "      <td>0</td>\n",
       "      <td>0</td>\n",
       "      <td>0</td>\n",
       "      <td>0</td>\n",
       "      <td>0</td>\n",
       "      <td>0</td>\n",
       "      <td>0</td>\n",
       "      <td>0</td>\n",
       "      <td>0</td>\n",
       "      <td>0</td>\n",
       "      <td>0</td>\n",
       "      <td>0</td>\n",
       "      <td>0</td>\n",
       "      <td>...</td>\n",
       "      <td>0</td>\n",
       "      <td>0</td>\n",
       "      <td>0</td>\n",
       "      <td>0</td>\n",
       "      <td>0</td>\n",
       "      <td>0</td>\n",
       "      <td>0</td>\n",
       "      <td>0</td>\n",
       "      <td>0</td>\n",
       "      <td>0</td>\n",
       "      <td>0</td>\n",
       "      <td>0</td>\n",
       "      <td>0</td>\n",
       "      <td>0</td>\n",
       "      <td>0</td>\n",
       "      <td>0</td>\n",
       "      <td>0</td>\n",
       "      <td>0</td>\n",
       "      <td>0</td>\n",
       "      <td>0</td>\n",
       "      <td>0</td>\n",
       "      <td>0</td>\n",
       "      <td>0</td>\n",
       "      <td>0</td>\n",
       "      <td>0</td>\n",
       "      <td>0</td>\n",
       "      <td>0</td>\n",
       "      <td>0</td>\n",
       "      <td>0</td>\n",
       "      <td>0</td>\n",
       "      <td>0</td>\n",
       "      <td>0</td>\n",
       "      <td>0</td>\n",
       "      <td>0</td>\n",
       "      <td>0</td>\n",
       "      <td>0</td>\n",
       "      <td>0</td>\n",
       "      <td>0</td>\n",
       "      <td>0</td>\n",
       "      <td>0</td>\n",
       "    </tr>\n",
       "    <tr>\n",
       "      <th>2</th>\n",
       "      <td>porphyria , acute intermittent</td>\n",
       "      <td>0</td>\n",
       "      <td>0</td>\n",
       "      <td>0</td>\n",
       "      <td>0</td>\n",
       "      <td>0</td>\n",
       "      <td>0</td>\n",
       "      <td>0</td>\n",
       "      <td>0</td>\n",
       "      <td>0</td>\n",
       "      <td>0</td>\n",
       "      <td>0</td>\n",
       "      <td>0</td>\n",
       "      <td>0</td>\n",
       "      <td>0</td>\n",
       "      <td>0</td>\n",
       "      <td>0</td>\n",
       "      <td>0</td>\n",
       "      <td>0</td>\n",
       "      <td>1</td>\n",
       "      <td>0</td>\n",
       "      <td>0</td>\n",
       "      <td>0</td>\n",
       "      <td>0</td>\n",
       "      <td>0</td>\n",
       "      <td>0</td>\n",
       "      <td>0</td>\n",
       "      <td>0</td>\n",
       "      <td>0</td>\n",
       "      <td>0</td>\n",
       "      <td>0</td>\n",
       "      <td>0</td>\n",
       "      <td>0</td>\n",
       "      <td>0</td>\n",
       "      <td>0</td>\n",
       "      <td>0</td>\n",
       "      <td>0</td>\n",
       "      <td>0</td>\n",
       "      <td>0</td>\n",
       "      <td>0</td>\n",
       "      <td>...</td>\n",
       "      <td>0</td>\n",
       "      <td>0</td>\n",
       "      <td>0</td>\n",
       "      <td>0</td>\n",
       "      <td>0</td>\n",
       "      <td>0</td>\n",
       "      <td>0</td>\n",
       "      <td>0</td>\n",
       "      <td>0</td>\n",
       "      <td>0</td>\n",
       "      <td>0</td>\n",
       "      <td>0</td>\n",
       "      <td>0</td>\n",
       "      <td>0</td>\n",
       "      <td>0</td>\n",
       "      <td>0</td>\n",
       "      <td>0</td>\n",
       "      <td>0</td>\n",
       "      <td>0</td>\n",
       "      <td>0</td>\n",
       "      <td>0</td>\n",
       "      <td>0</td>\n",
       "      <td>0</td>\n",
       "      <td>0</td>\n",
       "      <td>0</td>\n",
       "      <td>0</td>\n",
       "      <td>0</td>\n",
       "      <td>0</td>\n",
       "      <td>0</td>\n",
       "      <td>0</td>\n",
       "      <td>0</td>\n",
       "      <td>0</td>\n",
       "      <td>0</td>\n",
       "      <td>0</td>\n",
       "      <td>0</td>\n",
       "      <td>0</td>\n",
       "      <td>0</td>\n",
       "      <td>0</td>\n",
       "      <td>0</td>\n",
       "      <td>0</td>\n",
       "    </tr>\n",
       "    <tr>\n",
       "      <th>3</th>\n",
       "      <td>porphyria , acute intermittent</td>\n",
       "      <td>0</td>\n",
       "      <td>0</td>\n",
       "      <td>0</td>\n",
       "      <td>0</td>\n",
       "      <td>0</td>\n",
       "      <td>0</td>\n",
       "      <td>0</td>\n",
       "      <td>0</td>\n",
       "      <td>0</td>\n",
       "      <td>0</td>\n",
       "      <td>0</td>\n",
       "      <td>0</td>\n",
       "      <td>0</td>\n",
       "      <td>0</td>\n",
       "      <td>0</td>\n",
       "      <td>0</td>\n",
       "      <td>0</td>\n",
       "      <td>0</td>\n",
       "      <td>0</td>\n",
       "      <td>0</td>\n",
       "      <td>0</td>\n",
       "      <td>0</td>\n",
       "      <td>0</td>\n",
       "      <td>0</td>\n",
       "      <td>0</td>\n",
       "      <td>0</td>\n",
       "      <td>0</td>\n",
       "      <td>0</td>\n",
       "      <td>0</td>\n",
       "      <td>0</td>\n",
       "      <td>0</td>\n",
       "      <td>0</td>\n",
       "      <td>0</td>\n",
       "      <td>0</td>\n",
       "      <td>0</td>\n",
       "      <td>0</td>\n",
       "      <td>0</td>\n",
       "      <td>0</td>\n",
       "      <td>0</td>\n",
       "      <td>...</td>\n",
       "      <td>0</td>\n",
       "      <td>0</td>\n",
       "      <td>0</td>\n",
       "      <td>0</td>\n",
       "      <td>0</td>\n",
       "      <td>0</td>\n",
       "      <td>0</td>\n",
       "      <td>0</td>\n",
       "      <td>0</td>\n",
       "      <td>0</td>\n",
       "      <td>0</td>\n",
       "      <td>0</td>\n",
       "      <td>0</td>\n",
       "      <td>0</td>\n",
       "      <td>0</td>\n",
       "      <td>0</td>\n",
       "      <td>0</td>\n",
       "      <td>0</td>\n",
       "      <td>0</td>\n",
       "      <td>0</td>\n",
       "      <td>0</td>\n",
       "      <td>0</td>\n",
       "      <td>0</td>\n",
       "      <td>0</td>\n",
       "      <td>0</td>\n",
       "      <td>0</td>\n",
       "      <td>0</td>\n",
       "      <td>0</td>\n",
       "      <td>0</td>\n",
       "      <td>0</td>\n",
       "      <td>0</td>\n",
       "      <td>0</td>\n",
       "      <td>0</td>\n",
       "      <td>0</td>\n",
       "      <td>0</td>\n",
       "      <td>0</td>\n",
       "      <td>0</td>\n",
       "      <td>0</td>\n",
       "      <td>0</td>\n",
       "      <td>0</td>\n",
       "    </tr>\n",
       "    <tr>\n",
       "      <th>4</th>\n",
       "      <td>porphyria , acute intermittent</td>\n",
       "      <td>0</td>\n",
       "      <td>0</td>\n",
       "      <td>0</td>\n",
       "      <td>0</td>\n",
       "      <td>0</td>\n",
       "      <td>0</td>\n",
       "      <td>0</td>\n",
       "      <td>0</td>\n",
       "      <td>0</td>\n",
       "      <td>0</td>\n",
       "      <td>0</td>\n",
       "      <td>0</td>\n",
       "      <td>0</td>\n",
       "      <td>0</td>\n",
       "      <td>0</td>\n",
       "      <td>0</td>\n",
       "      <td>0</td>\n",
       "      <td>0</td>\n",
       "      <td>0</td>\n",
       "      <td>0</td>\n",
       "      <td>0</td>\n",
       "      <td>0</td>\n",
       "      <td>0</td>\n",
       "      <td>0</td>\n",
       "      <td>0</td>\n",
       "      <td>0</td>\n",
       "      <td>0</td>\n",
       "      <td>0</td>\n",
       "      <td>0</td>\n",
       "      <td>0</td>\n",
       "      <td>0</td>\n",
       "      <td>0</td>\n",
       "      <td>0</td>\n",
       "      <td>0</td>\n",
       "      <td>0</td>\n",
       "      <td>0</td>\n",
       "      <td>0</td>\n",
       "      <td>0</td>\n",
       "      <td>0</td>\n",
       "      <td>...</td>\n",
       "      <td>0</td>\n",
       "      <td>0</td>\n",
       "      <td>0</td>\n",
       "      <td>0</td>\n",
       "      <td>0</td>\n",
       "      <td>0</td>\n",
       "      <td>0</td>\n",
       "      <td>0</td>\n",
       "      <td>0</td>\n",
       "      <td>0</td>\n",
       "      <td>0</td>\n",
       "      <td>0</td>\n",
       "      <td>0</td>\n",
       "      <td>0</td>\n",
       "      <td>0</td>\n",
       "      <td>0</td>\n",
       "      <td>0</td>\n",
       "      <td>0</td>\n",
       "      <td>0</td>\n",
       "      <td>0</td>\n",
       "      <td>0</td>\n",
       "      <td>0</td>\n",
       "      <td>0</td>\n",
       "      <td>0</td>\n",
       "      <td>0</td>\n",
       "      <td>0</td>\n",
       "      <td>0</td>\n",
       "      <td>0</td>\n",
       "      <td>0</td>\n",
       "      <td>0</td>\n",
       "      <td>0</td>\n",
       "      <td>0</td>\n",
       "      <td>0</td>\n",
       "      <td>0</td>\n",
       "      <td>0</td>\n",
       "      <td>0</td>\n",
       "      <td>0</td>\n",
       "      <td>0</td>\n",
       "      <td>0</td>\n",
       "      <td>0</td>\n",
       "    </tr>\n",
       "  </tbody>\n",
       "</table>\n",
       "<p>5 rows × 1016 columns</p>\n",
       "</div>"
      ],
      "text/plain": [
       "                     Disease_name  Abdomen, Acute  ...  worry  yellow sputum\n",
       "0  porphyria , acute intermittent               0  ...      0              0\n",
       "1  porphyria , acute intermittent               0  ...      0              0\n",
       "2  porphyria , acute intermittent               0  ...      0              0\n",
       "3  porphyria , acute intermittent               0  ...      0              0\n",
       "4  porphyria , acute intermittent               0  ...      0              0\n",
       "\n",
       "[5 rows x 1016 columns]"
      ]
     },
     "execution_count": 33,
     "metadata": {
      "tags": []
     },
     "output_type": "execute_result"
    }
   ],
   "source": [
    "data.head()"
   ]
  },
  {
   "cell_type": "code",
   "execution_count": 0,
   "metadata": {
    "colab": {},
    "colab_type": "code",
    "id": "D9J3VsLQH-bY"
   },
   "outputs": [],
   "source": []
  },
  {
   "cell_type": "code",
   "execution_count": 0,
   "metadata": {
    "colab": {},
    "colab_type": "code",
    "id": "FgFAPZ3vheq-"
   },
   "outputs": [],
   "source": [
    "from random import randint"
   ]
  },
  {
   "cell_type": "code",
   "execution_count": 0,
   "metadata": {
    "colab": {},
    "colab_type": "code",
    "id": "DfPLne5vhepg"
   },
   "outputs": [],
   "source": [
    "param_dist = {\"n_estimators\": range(60,90,3),\n",
    "              \"max_depth\":[30,35,40,45,None],\n",
    "              \"min_samples_split\": range(2,4,1),\n",
    "              \"min_samples_leaf\": range(1,4,1),\n",
    "              \"bootstrap\": [True,False],\n",
    "              \"random_state\": [6,13,15,21,32,35,37,42],\n",
    "              \"min_impurity_decrease\": list(np.arange(0,0.07,.01)),\n",
    "              \"criterion\": ['gini','entropy'],\n",
    "              \"max_features\": [None],\n",
    "              }"
   ]
  },
  {
   "cell_type": "code",
   "execution_count": 0,
   "metadata": {
    "colab": {},
    "colab_type": "code",
    "id": "cN4oUMY7evaJ"
   },
   "outputs": [],
   "source": [
    "from sklearn.model_selection import RandomizedSearchCV"
   ]
  },
  {
   "cell_type": "code",
   "execution_count": 0,
   "metadata": {
    "colab": {},
    "colab_type": "code",
    "id": "FsIJ_uGCiJGm"
   },
   "outputs": [],
   "source": [
    "clf_model = RandomForestClassifier()\n",
    "clf = RandomizedSearchCV(clf_model, param_dist, n_iter=100, random_state= 21)"
   ]
  },
  {
   "cell_type": "code",
   "execution_count": 0,
   "metadata": {
    "colab": {
     "base_uri": "https://localhost:8080/",
     "height": 337
    },
    "colab_type": "code",
    "id": "q0BdxUrajehv",
    "outputId": "2f721e2b-28e5-4b17-db31-eed04ad4b202"
   },
   "outputs": [
    {
     "ename": "ValueError",
     "evalue": "ignored",
     "output_type": "error",
     "traceback": [
      "\u001b[0;31m---------------------------------------------------------------------------\u001b[0m",
      "\u001b[0;31mValueError\u001b[0m                                Traceback (most recent call last)",
      "\u001b[0;32m<ipython-input-12-61b0b4bbabd3>\u001b[0m in \u001b[0;36m<module>\u001b[0;34m()\u001b[0m\n\u001b[1;32m      1\u001b[0m \u001b[0;32mfrom\u001b[0m \u001b[0mpprint\u001b[0m \u001b[0;32mimport\u001b[0m \u001b[0mpprint\u001b[0m\u001b[0;34m\u001b[0m\u001b[0;34m\u001b[0m\u001b[0m\n\u001b[0;32m----> 2\u001b[0;31m \u001b[0mmodel\u001b[0m \u001b[0;34m=\u001b[0m \u001b[0mclf\u001b[0m\u001b[0;34m.\u001b[0m\u001b[0mfit\u001b[0m\u001b[0;34m(\u001b[0m\u001b[0mX\u001b[0m\u001b[0;34m,\u001b[0m\u001b[0my\u001b[0m\u001b[0;34m)\u001b[0m\u001b[0;34m\u001b[0m\u001b[0;34m\u001b[0m\u001b[0m\n\u001b[0m\u001b[1;32m      3\u001b[0m \u001b[0mpprint\u001b[0m\u001b[0;34m(\u001b[0m\u001b[0mmodel\u001b[0m\u001b[0;34m.\u001b[0m\u001b[0mbest_estimator_\u001b[0m\u001b[0;34m.\u001b[0m\u001b[0mgetparams\u001b[0m\u001b[0;34m(\u001b[0m\u001b[0;34m)\u001b[0m\u001b[0;34m)\u001b[0m\u001b[0;34m\u001b[0m\u001b[0;34m\u001b[0m\u001b[0m\n",
      "\u001b[0;32m/usr/local/lib/python3.6/dist-packages/sklearn/model_selection/_search.py\u001b[0m in \u001b[0;36mfit\u001b[0;34m(self, X, y, groups, **fit_params)\u001b[0m\n\u001b[1;32m    708\u001b[0m                 \u001b[0;32mreturn\u001b[0m \u001b[0mresults\u001b[0m\u001b[0;34m\u001b[0m\u001b[0;34m\u001b[0m\u001b[0m\n\u001b[1;32m    709\u001b[0m \u001b[0;34m\u001b[0m\u001b[0m\n\u001b[0;32m--> 710\u001b[0;31m             \u001b[0mself\u001b[0m\u001b[0;34m.\u001b[0m\u001b[0m_run_search\u001b[0m\u001b[0;34m(\u001b[0m\u001b[0mevaluate_candidates\u001b[0m\u001b[0;34m)\u001b[0m\u001b[0;34m\u001b[0m\u001b[0;34m\u001b[0m\u001b[0m\n\u001b[0m\u001b[1;32m    711\u001b[0m \u001b[0;34m\u001b[0m\u001b[0m\n\u001b[1;32m    712\u001b[0m         \u001b[0;31m# For multi-metric evaluation, store the best_index_, best_params_ and\u001b[0m\u001b[0;34m\u001b[0m\u001b[0;34m\u001b[0m\u001b[0;34m\u001b[0m\u001b[0m\n",
      "\u001b[0;32m/usr/local/lib/python3.6/dist-packages/sklearn/model_selection/_search.py\u001b[0m in \u001b[0;36m_run_search\u001b[0;34m(self, evaluate_candidates)\u001b[0m\n\u001b[1;32m   1482\u001b[0m         evaluate_candidates(ParameterSampler(\n\u001b[1;32m   1483\u001b[0m             \u001b[0mself\u001b[0m\u001b[0;34m.\u001b[0m\u001b[0mparam_distributions\u001b[0m\u001b[0;34m,\u001b[0m \u001b[0mself\u001b[0m\u001b[0;34m.\u001b[0m\u001b[0mn_iter\u001b[0m\u001b[0;34m,\u001b[0m\u001b[0;34m\u001b[0m\u001b[0;34m\u001b[0m\u001b[0m\n\u001b[0;32m-> 1484\u001b[0;31m             random_state=self.random_state))\n\u001b[0m",
      "\u001b[0;32m/usr/local/lib/python3.6/dist-packages/sklearn/model_selection/_search.py\u001b[0m in \u001b[0;36mevaluate_candidates\u001b[0;34m(candidate_params)\u001b[0m\n\u001b[1;32m    687\u001b[0m                                \u001b[0;32mfor\u001b[0m \u001b[0mparameters\u001b[0m\u001b[0;34m,\u001b[0m \u001b[0;34m(\u001b[0m\u001b[0mtrain\u001b[0m\u001b[0;34m,\u001b[0m \u001b[0mtest\u001b[0m\u001b[0;34m)\u001b[0m\u001b[0;34m\u001b[0m\u001b[0;34m\u001b[0m\u001b[0m\n\u001b[1;32m    688\u001b[0m                                in product(candidate_params,\n\u001b[0;32m--> 689\u001b[0;31m                                           cv.split(X, y, groups)))\n\u001b[0m\u001b[1;32m    690\u001b[0m \u001b[0;34m\u001b[0m\u001b[0m\n\u001b[1;32m    691\u001b[0m                 \u001b[0;32mif\u001b[0m \u001b[0mlen\u001b[0m\u001b[0;34m(\u001b[0m\u001b[0mout\u001b[0m\u001b[0;34m)\u001b[0m \u001b[0;34m<\u001b[0m \u001b[0;36m1\u001b[0m\u001b[0;34m:\u001b[0m\u001b[0;34m\u001b[0m\u001b[0;34m\u001b[0m\u001b[0m\n",
      "\u001b[0;32m/usr/local/lib/python3.6/dist-packages/sklearn/model_selection/_split.py\u001b[0m in \u001b[0;36msplit\u001b[0;34m(self, X, y, groups)\u001b[0m\n\u001b[1;32m    333\u001b[0m                 .format(self.n_splits, n_samples))\n\u001b[1;32m    334\u001b[0m \u001b[0;34m\u001b[0m\u001b[0m\n\u001b[0;32m--> 335\u001b[0;31m         \u001b[0;32mfor\u001b[0m \u001b[0mtrain\u001b[0m\u001b[0;34m,\u001b[0m \u001b[0mtest\u001b[0m \u001b[0;32min\u001b[0m \u001b[0msuper\u001b[0m\u001b[0;34m(\u001b[0m\u001b[0;34m)\u001b[0m\u001b[0;34m.\u001b[0m\u001b[0msplit\u001b[0m\u001b[0;34m(\u001b[0m\u001b[0mX\u001b[0m\u001b[0;34m,\u001b[0m \u001b[0my\u001b[0m\u001b[0;34m,\u001b[0m \u001b[0mgroups\u001b[0m\u001b[0;34m)\u001b[0m\u001b[0;34m:\u001b[0m\u001b[0;34m\u001b[0m\u001b[0;34m\u001b[0m\u001b[0m\n\u001b[0m\u001b[1;32m    336\u001b[0m             \u001b[0;32myield\u001b[0m \u001b[0mtrain\u001b[0m\u001b[0;34m,\u001b[0m \u001b[0mtest\u001b[0m\u001b[0;34m\u001b[0m\u001b[0;34m\u001b[0m\u001b[0m\n\u001b[1;32m    337\u001b[0m \u001b[0;34m\u001b[0m\u001b[0m\n",
      "\u001b[0;32m/usr/local/lib/python3.6/dist-packages/sklearn/model_selection/_split.py\u001b[0m in \u001b[0;36msplit\u001b[0;34m(self, X, y, groups)\u001b[0m\n\u001b[1;32m     78\u001b[0m         \u001b[0mX\u001b[0m\u001b[0;34m,\u001b[0m \u001b[0my\u001b[0m\u001b[0;34m,\u001b[0m \u001b[0mgroups\u001b[0m \u001b[0;34m=\u001b[0m \u001b[0mindexable\u001b[0m\u001b[0;34m(\u001b[0m\u001b[0mX\u001b[0m\u001b[0;34m,\u001b[0m \u001b[0my\u001b[0m\u001b[0;34m,\u001b[0m \u001b[0mgroups\u001b[0m\u001b[0;34m)\u001b[0m\u001b[0;34m\u001b[0m\u001b[0;34m\u001b[0m\u001b[0m\n\u001b[1;32m     79\u001b[0m         \u001b[0mindices\u001b[0m \u001b[0;34m=\u001b[0m \u001b[0mnp\u001b[0m\u001b[0;34m.\u001b[0m\u001b[0marange\u001b[0m\u001b[0;34m(\u001b[0m\u001b[0m_num_samples\u001b[0m\u001b[0;34m(\u001b[0m\u001b[0mX\u001b[0m\u001b[0;34m)\u001b[0m\u001b[0;34m)\u001b[0m\u001b[0;34m\u001b[0m\u001b[0;34m\u001b[0m\u001b[0m\n\u001b[0;32m---> 80\u001b[0;31m         \u001b[0;32mfor\u001b[0m \u001b[0mtest_index\u001b[0m \u001b[0;32min\u001b[0m \u001b[0mself\u001b[0m\u001b[0;34m.\u001b[0m\u001b[0m_iter_test_masks\u001b[0m\u001b[0;34m(\u001b[0m\u001b[0mX\u001b[0m\u001b[0;34m,\u001b[0m \u001b[0my\u001b[0m\u001b[0;34m,\u001b[0m \u001b[0mgroups\u001b[0m\u001b[0;34m)\u001b[0m\u001b[0;34m:\u001b[0m\u001b[0;34m\u001b[0m\u001b[0;34m\u001b[0m\u001b[0m\n\u001b[0m\u001b[1;32m     81\u001b[0m             \u001b[0mtrain_index\u001b[0m \u001b[0;34m=\u001b[0m \u001b[0mindices\u001b[0m\u001b[0;34m[\u001b[0m\u001b[0mnp\u001b[0m\u001b[0;34m.\u001b[0m\u001b[0mlogical_not\u001b[0m\u001b[0;34m(\u001b[0m\u001b[0mtest_index\u001b[0m\u001b[0;34m)\u001b[0m\u001b[0;34m]\u001b[0m\u001b[0;34m\u001b[0m\u001b[0;34m\u001b[0m\u001b[0m\n\u001b[1;32m     82\u001b[0m             \u001b[0mtest_index\u001b[0m \u001b[0;34m=\u001b[0m \u001b[0mindices\u001b[0m\u001b[0;34m[\u001b[0m\u001b[0mtest_index\u001b[0m\u001b[0;34m]\u001b[0m\u001b[0;34m\u001b[0m\u001b[0;34m\u001b[0m\u001b[0m\n",
      "\u001b[0;32m/usr/local/lib/python3.6/dist-packages/sklearn/model_selection/_split.py\u001b[0m in \u001b[0;36m_iter_test_masks\u001b[0;34m(self, X, y, groups)\u001b[0m\n\u001b[1;32m    690\u001b[0m \u001b[0;34m\u001b[0m\u001b[0m\n\u001b[1;32m    691\u001b[0m     \u001b[0;32mdef\u001b[0m \u001b[0m_iter_test_masks\u001b[0m\u001b[0;34m(\u001b[0m\u001b[0mself\u001b[0m\u001b[0;34m,\u001b[0m \u001b[0mX\u001b[0m\u001b[0;34m,\u001b[0m \u001b[0my\u001b[0m\u001b[0;34m=\u001b[0m\u001b[0;32mNone\u001b[0m\u001b[0;34m,\u001b[0m \u001b[0mgroups\u001b[0m\u001b[0;34m=\u001b[0m\u001b[0;32mNone\u001b[0m\u001b[0;34m)\u001b[0m\u001b[0;34m:\u001b[0m\u001b[0;34m\u001b[0m\u001b[0;34m\u001b[0m\u001b[0m\n\u001b[0;32m--> 692\u001b[0;31m         \u001b[0mtest_folds\u001b[0m \u001b[0;34m=\u001b[0m \u001b[0mself\u001b[0m\u001b[0;34m.\u001b[0m\u001b[0m_make_test_folds\u001b[0m\u001b[0;34m(\u001b[0m\u001b[0mX\u001b[0m\u001b[0;34m,\u001b[0m \u001b[0my\u001b[0m\u001b[0;34m)\u001b[0m\u001b[0;34m\u001b[0m\u001b[0;34m\u001b[0m\u001b[0m\n\u001b[0m\u001b[1;32m    693\u001b[0m         \u001b[0;32mfor\u001b[0m \u001b[0mi\u001b[0m \u001b[0;32min\u001b[0m \u001b[0mrange\u001b[0m\u001b[0;34m(\u001b[0m\u001b[0mself\u001b[0m\u001b[0;34m.\u001b[0m\u001b[0mn_splits\u001b[0m\u001b[0;34m)\u001b[0m\u001b[0;34m:\u001b[0m\u001b[0;34m\u001b[0m\u001b[0;34m\u001b[0m\u001b[0m\n\u001b[1;32m    694\u001b[0m             \u001b[0;32myield\u001b[0m \u001b[0mtest_folds\u001b[0m \u001b[0;34m==\u001b[0m \u001b[0mi\u001b[0m\u001b[0;34m\u001b[0m\u001b[0;34m\u001b[0m\u001b[0m\n",
      "\u001b[0;32m/usr/local/lib/python3.6/dist-packages/sklearn/model_selection/_split.py\u001b[0m in \u001b[0;36m_make_test_folds\u001b[0;34m(self, X, y)\u001b[0m\n\u001b[1;32m    661\u001b[0m             raise ValueError(\"n_splits=%d cannot be greater than the\"\n\u001b[1;32m    662\u001b[0m                              \u001b[0;34m\" number of members in each class.\"\u001b[0m\u001b[0;34m\u001b[0m\u001b[0;34m\u001b[0m\u001b[0m\n\u001b[0;32m--> 663\u001b[0;31m                              % (self.n_splits))\n\u001b[0m\u001b[1;32m    664\u001b[0m         \u001b[0;32mif\u001b[0m \u001b[0mself\u001b[0m\u001b[0;34m.\u001b[0m\u001b[0mn_splits\u001b[0m \u001b[0;34m>\u001b[0m \u001b[0mmin_groups\u001b[0m\u001b[0;34m:\u001b[0m\u001b[0;34m\u001b[0m\u001b[0;34m\u001b[0m\u001b[0m\n\u001b[1;32m    665\u001b[0m             warnings.warn((\"The least populated class in y has only %d\"\n",
      "\u001b[0;31mValueError\u001b[0m: n_splits=5 cannot be greater than the number of members in each class."
     ]
    }
   ],
   "source": [
    "from pprint import pprint\n",
    "model = clf.fit(X,y)\n",
    "pprint(model.best_estimator_.getparams())"
   ]
  },
  {
   "cell_type": "code",
   "execution_count": null,
   "metadata": {},
   "outputs": [],
   "source": []
  },
  {
   "cell_type": "markdown",
   "metadata": {},
   "source": [
    "# Selecting columns with specific row values"
   ]
  },
  {
   "cell_type": "code",
   "execution_count": 13,
   "metadata": {
    "colab": {},
    "colab_type": "code",
    "id": "NHWgC_SkkQ7r"
   },
   "outputs": [],
   "source": [
    "x = pd.Series((data[data[\"Disease_name\"]==\"malaria\"].values==1)[0],index=data.columns)"
   ]
  },
  {
   "cell_type": "code",
   "execution_count": 14,
   "metadata": {},
   "outputs": [
    {
     "data": {
      "text/plain": [
       "Index(['Disease_name', 'Abdomen, Acute', 'Abdominal Pain',\n",
       "       'Abdominal bloating', 'Abdominal colic', 'Abducens Nerve Diseases',\n",
       "       'Abnormal bowel sounds', 'Abnormal breathing', 'Abnormal heart beat',\n",
       "       'Abnormal sputum',\n",
       "       ...\n",
       "       'urinoma', 'verbal auditory hallucinations',\n",
       "       'verbally abusive behavior', 'vision blurred', 'weepiness', 'welt',\n",
       "       'wheelchair bound', 'withdraw', 'worry', 'yellow sputum'],\n",
       "      dtype='object', length=1016)"
      ]
     },
     "execution_count": 14,
     "metadata": {},
     "output_type": "execute_result"
    }
   ],
   "source": [
    "x.index"
   ]
  },
  {
   "cell_type": "code",
   "execution_count": 47,
   "metadata": {},
   "outputs": [
    {
     "data": {
      "text/plain": [
       "Index(['Anemia, Hemolytic', 'Chills', 'Diarrhea', 'Fever', 'Headache',\n",
       "       'Hepatomegaly', 'Hypoglycemia', 'Icterus', 'Kidney Failure',\n",
       "       'Leukopenia', 'Nausea', 'Pulmonary Edema', 'Shock', 'Splenomegaly',\n",
       "       'Thrombocytopenia', 'Vomiting'],\n",
       "      dtype='object')"
      ]
     },
     "execution_count": 47,
     "metadata": {},
     "output_type": "execute_result"
    }
   ],
   "source": [
    "data.loc[data[data[\"Disease_name\"]==\"malaria\"].index,x].columns"
   ]
  },
  {
   "cell_type": "code",
   "execution_count": 10,
   "metadata": {},
   "outputs": [],
   "source": [
    "def getsym(data, s):\n",
    "    x = pd.Series((data[data[\"Disease_name\"]==s].values==1)[0],index=data.columns)\n",
    "    return data.loc[data[data[\"Disease_name\"]==s].index,x].columns"
   ]
  },
  {
   "cell_type": "code",
   "execution_count": 11,
   "metadata": {},
   "outputs": [
    {
     "data": {
      "text/plain": [
       "['Affective ambivalence',\n",
       " 'Agitation',\n",
       " 'Autistic Disorder',\n",
       " 'Catatonia',\n",
       " 'Delusion of observation',\n",
       " 'Delusion of reference',\n",
       " 'Delusions',\n",
       " 'Depersonalization',\n",
       " 'Derealization',\n",
       " 'Euphoric mood',\n",
       " 'Hallucinations',\n",
       " 'Irritable Mood',\n",
       " 'Kandinsky Syndrome',\n",
       " 'Thought broadcast',\n",
       " 'Thought insertion',\n",
       " 'Thought withdrawal',\n",
       " 'hallucinations auditory',\n",
       " 'hallucinations visual',\n",
       " 'homelessness',\n",
       " 'hypersomnolence',\n",
       " 'patient non compliance',\n",
       " 'suicidal',\n",
       " 'underweight',\n",
       " 'verbal auditory hallucinations',\n",
       " 'worry']"
      ]
     },
     "execution_count": 11,
     "metadata": {},
     "output_type": "execute_result"
    }
   ],
   "source": [
    "getsym(data, \"schizophrenia\").tolist()"
   ]
  },
  {
   "cell_type": "markdown",
   "metadata": {},
   "source": [
    "# My git commands"
   ]
  },
  {
   "cell_type": "markdown",
   "metadata": {},
   "source": [
    "# git init"
   ]
  },
  {
   "cell_type": "markdown",
   "metadata": {},
   "source": [
    "# git remote add remote_name remote_url(rep url)"
   ]
  },
  {
   "cell_type": "markdown",
   "metadata": {},
   "source": [
    "# git pull remote_name branch_name"
   ]
  },
  {
   "cell_type": "markdown",
   "metadata": {},
   "source": [
    "Edit .gitignore to exclude files not to be included in github."
   ]
  },
  {
   "cell_type": "markdown",
   "metadata": {},
   "source": [
    "# git status -- to get staus of files"
   ]
  },
  {
   "cell_type": "markdown",
   "metadata": {},
   "source": [
    "git add . -- to Stage all files"
   ]
  },
  {
   "cell_type": "markdown",
   "metadata": {},
   "source": [
    "git commit -m \"Commit heading\" -m \"Commit description optional\""
   ]
  },
  {
   "cell_type": "markdown",
   "metadata": {},
   "source": [
    "git push remote_name branch_name"
   ]
  },
  {
   "cell_type": "markdown",
   "metadata": {},
   "source": [
    "git log -- to show commit history"
   ]
  },
  {
   "cell_type": "markdown",
   "metadata": {},
   "source": [
    "git branch branch_name -- to form a new branch"
   ]
  },
  {
   "cell_type": "markdown",
   "metadata": {},
   "source": [
    "git checkout branch_name"
   ]
  },
  {
   "cell_type": "markdown",
   "metadata": {},
   "source": [
    "git checkout -b BRANCH-NAME --- to switch to newly added branch also created this new branch"
   ]
  },
  {
   "cell_type": "markdown",
   "metadata": {},
   "source": [
    "# End commands"
   ]
  },
  {
   "cell_type": "code",
   "execution_count": null,
   "metadata": {},
   "outputs": [],
   "source": []
  }
 ],
 "metadata": {
  "colab": {
   "collapsed_sections": [],
   "name": "RF_New.ipynb",
   "provenance": []
  },
  "kernelspec": {
   "display_name": "Python 3",
   "language": "python",
   "name": "python3"
  },
  "language_info": {
   "codemirror_mode": {
    "name": "ipython",
    "version": 3
   },
   "file_extension": ".py",
   "mimetype": "text/x-python",
   "name": "python",
   "nbconvert_exporter": "python",
   "pygments_lexer": "ipython3",
   "version": "3.7.4"
  }
 },
 "nbformat": 4,
 "nbformat_minor": 1
}
